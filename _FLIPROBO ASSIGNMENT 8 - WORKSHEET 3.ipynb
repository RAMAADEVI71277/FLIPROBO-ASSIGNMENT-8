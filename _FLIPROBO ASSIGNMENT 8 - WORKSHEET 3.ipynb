{
 "cells": [
  {
   "cell_type": "markdown",
   "id": "b881159f",
   "metadata": {},
   "source": [
    "# WORKSHEET 3 PYTHON\n",
    "Q1 to Q8 have only one correct answer. Choose the correct option to answer your question. \n",
    "1. Which of the following will raise a value error in python? \n",
    "A) int(32) B) int(3.2) \n",
    "C) int(-3.2) D) int(‘32’) \n",
    "2. What will be the output of round(3.567)? \n",
    "A) 3.5 B) 3.0 \n",
    "C) 4 D) 3 \n",
    "3. How is the function pow(a,b,c) evaluated in python? \n",
    "A) a**b**c B) (a**b)%c \n",
    "C) (a**b)*c D) (a**b)**c \n",
    "4. What will be the output of print(type(type(int))) in python 3? \n",
    "A) <class ‘type’> B) <type ‘type’> \n",
    "C) <class ‘int’> D) <type ‘int’> \n",
    "5. What will be the output of ord(chr(65))? \n",
    "A) ‘A’ B) ‘a’ \n",
    "C) 65 D) TypeError \n",
    "6. What is called when a function is defined inside a class? \n",
    "A) Module B) Function \n",
    "C) _init_ function D) Method \n",
    "7. What will be the output of all([1, 0, 5 ,7])? \n",
    "A) 0 B) False \n",
    "C) True D) error \n",
    "8. Is the output of the function abs() the same as that of the function math.fabs()? \n",
    "A) Always B) Sometimes \n",
    "C) Never D) None of these \n",
    "Q9 and Q10 have multiple correct answers. Choose all the correct options to answer your question. \n",
    "9. Select all correct float numbers in python? \n",
    "A) -68.7e100 B) 42e3 \n",
    "C) 4.2038 D) 3.0 \n",
    "10. Which of the following is(are) correct statement(s) in python? \n",
    "A) You can pass positional arguments in any order. \n",
    "B) You can pass keyword arguments in any order. \n",
    "C) You can call a function with positional and keyword arguments. \n",
    "D) Positional arguments must be before keyword arguments in a function call \n",
    "Q11 to Q15 are programming questions. Answer them in Jupyter Notebook. \n",
    "11. Write a python function print pyramid of stars. Level of the pyramid should be taken as an input from the \n",
    "user. E.g. \n",
    "Input = 5 \n",
    "Output:\n",
    "ASSIGNMENT\n",
    "12. Write a python function print Hourglass pattern. \n",
    "E.g. \n",
    "Input = 5 \n",
    "Output: \n",
    "13. Write a python function to print Pascal’s Triangle. The number of levels in the triangle must be taken as input \n",
    "by the user. E.g. \n",
    "Input = 5 \n",
    "Output: \n",
    "1 \n",
    "1 1 \n",
    "1 2 1 \n",
    "1 3 3 1 \n",
    "1 4 6 4 1 \n",
    "14. Write a python function to print Diamond Shaped Pattern shown below. Function must take integer input \n",
    "which represents the number of stars in the middle most line. E.g.: \n",
    "Input = 5 \n",
    "Output: \n",
    "15. Write a python function to print Diamond Shaped Character Pattern shown below. Function must take integer \n",
    "input within range 1 to 26, which represents the rank of the alphabet. E.g.: \n",
    "Input = 5"
   ]
  },
  {
   "cell_type": "markdown",
   "id": "78cc5bf1",
   "metadata": {},
   "source": [
    "# Q1) Which of the following will raise a value error in python? \n",
    "A) int(32)\n",
    "B) int(3.2) \n",
    "C) int(-3.2)\n",
    "D) int(‘32’) \n",
    "\n",
    "ANSWER:\n",
    "D)  int(‘32’)     "
   ]
  },
  {
   "cell_type": "markdown",
   "id": "9408bb81",
   "metadata": {},
   "source": [
    "# Q2) What will be the output of round(3.567)? \n",
    "A) 3.5\n",
    "B) 3.0 \n",
    "C) 4 \n",
    "D) 3 \n",
    "\n",
    "ANSWER:\n",
    "C) 4  "
   ]
  },
  {
   "cell_type": "markdown",
   "id": "fa61a17d",
   "metadata": {},
   "source": [
    "# Q3) How is the function pow(a,b,c) evaluated in python? \n",
    "A) a**b**c \n",
    "B) (a**b)%c \n",
    "C) (a**b)*c \n",
    "D) (a**b)**c \n",
    "\n",
    "ANSWER:\n",
    "B) (a**b)%c    "
   ]
  },
  {
   "cell_type": "markdown",
   "id": "c852f686",
   "metadata": {},
   "source": [
    "# Q4) What will be the output of print(type(type(int))) in python 3? \n",
    "A) <class ‘type’> \n",
    "B) <type ‘type’> \n",
    "C) <class ‘int’>\n",
    "D) <type ‘int’>\n",
    "\n",
    "ANSWER:\n",
    "B)  <type ‘type’>     "
   ]
  },
  {
   "cell_type": "markdown",
   "id": "d80095e7",
   "metadata": {},
   "source": [
    "# Q5) What will be the output of ord(chr(65))? \n",
    "A) ‘A’ \n",
    "B) ‘a’ \n",
    "C) 65\n",
    "D) TypeError \n",
    "\n",
    "ANSWER:\n",
    "C) 65    \n",
    "    "
   ]
  },
  {
   "cell_type": "markdown",
   "id": "79e77ba1",
   "metadata": {},
   "source": [
    "# Q6) What is called when a function is defined inside a class? \n",
    "A) Module\n",
    "B) Function \n",
    "C) _init_ function\n",
    "D) Method \n",
    "\n",
    "ANSWER:\n",
    "D) Method    "
   ]
  },
  {
   "cell_type": "markdown",
   "id": "2ffb692f",
   "metadata": {},
   "source": [
    "# Q7) What will be the output of all([1, 0, 5 ,7])? \n",
    "A) 0 \n",
    "B) False \n",
    "C) True \n",
    "D) error\n",
    "\n",
    "ANSWER:\n",
    "B) False     "
   ]
  },
  {
   "cell_type": "markdown",
   "id": "390926ca",
   "metadata": {},
   "source": [
    "# Q8) Is the output of the function abs() the same as that of the function math.fabs()? \n",
    "A) Always\n",
    "B) Sometimes \n",
    "C) Never \n",
    "D) None of these \n",
    "\n",
    "ANSWER:\n",
    "B) Sometimes.    "
   ]
  },
  {
   "cell_type": "markdown",
   "id": "4c101b6b",
   "metadata": {},
   "source": [
    "# Q9) Select all correct float numbers in python? \n",
    "A) -68.7e100 \n",
    "B) 42e3 \n",
    "C) 4.2038\n",
    "D) 3.0 \n",
    "\n",
    "ANSWER:\n",
    "A) -68.7e100 \n",
    "C) 4.2038\n",
    "D) 3.0   "
   ]
  },
  {
   "cell_type": "markdown",
   "id": "09188fbf",
   "metadata": {},
   "source": [
    "# Q10) Which of the following is(are) correct statement(s) in python? \n",
    "A) You can pass positional arguments in any order. \n",
    "B) You can pass keyword arguments in any order. \n",
    "C) You can call a function with positional and keyword arguments. \n",
    "D) Positional arguments must be before keyword arguments in a function call \n",
    "\n",
    "ANSWER: \n",
    "B) You can pass keyword arguments in any order. \n",
    "C) You can call a function with positional and keyword arguments. \n",
    "D) Positional arguments must be before keyword arguments in a function call     "
   ]
  },
  {
   "cell_type": "markdown",
   "id": "fbc9b35f",
   "metadata": {},
   "source": [
    "# Q11) Write a python function print pyramid of stars. Level of the pyramid should be taken as an input from the user. E.g. Input = 5 "
   ]
  },
  {
   "cell_type": "code",
   "execution_count": 1,
   "id": "f8718daf",
   "metadata": {},
   "outputs": [
    {
     "name": "stdout",
     "output_type": "stream",
     "text": [
      "Enter number of rows: 5\n",
      "        * \n",
      "      * * * \n",
      "    * * * * * \n",
      "  * * * * * * * \n",
      "* * * * * * * * * \n"
     ]
    }
   ],
   "source": [
    "rows = int(input(\"Enter number of rows: \"))\n",
    "\n",
    "k = 0\n",
    "\n",
    "for i in range(1, rows+1):\n",
    "    for space in range(1, (rows-i)+1):\n",
    "        print(end=\"  \")\n",
    "   \n",
    "    while k!=(2*i-1):\n",
    "        print(\"* \", end=\"\")\n",
    "        k += 1\n",
    "   \n",
    "    k = 0\n",
    "    print()"
   ]
  },
  {
   "cell_type": "markdown",
   "id": "0eae45fe",
   "metadata": {},
   "source": [
    "# Q12) Write a python function print Hourglass pattern. E.g. Input = 5 "
   ]
  },
  {
   "cell_type": "code",
   "execution_count": 2,
   "id": "2596fd48",
   "metadata": {},
   "outputs": [
    {
     "name": "stdout",
     "output_type": "stream",
     "text": [
      "Enter number of rows: 5\n",
      "* * * * * * * \n",
      "  * * * * * \n",
      "    * * * \n",
      "      * \n",
      "        * \n",
      "      * * * \n",
      "    * * * * * \n",
      "  * * * * * * * \n",
      "* * * * * * * * * \n"
     ]
    }
   ],
   "source": [
    "rows = int(input(\"Enter number of rows: \"))\n",
    "\n",
    "for i in range(rows, 1, -1):\n",
    "    for space in range(0, rows-i):\n",
    "        print(\"  \", end=\"\")\n",
    "    for j in range(i, 2*i-1):\n",
    "        print(\"* \", end=\"\")\n",
    "    for j in range(1, i-1):\n",
    "        print(\"* \", end=\"\")\n",
    "    print()\n",
    "    \n",
    "k = 0\n",
    "\n",
    "for i in range(1, rows+1):\n",
    "    for g in range(1, (rows-i)+1):\n",
    "        print(end=\"  \")\n",
    "   \n",
    "    while k!=(2*i-1):\n",
    "        print(\"* \", end=\"\")\n",
    "        k += 1\n",
    "   \n",
    "    k = 0\n",
    "    print()    \n",
    "    \n",
    "    "
   ]
  },
  {
   "cell_type": "markdown",
   "id": "94ecf443",
   "metadata": {},
   "source": [
    "# Q13) Write a python function to print Pascal’s Triangle. The number of levels in the triangle must be taken as input by the user. E.g. Input = 5 "
   ]
  },
  {
   "cell_type": "code",
   "execution_count": 3,
   "id": "c79b36a6",
   "metadata": {},
   "outputs": [
    {
     "name": "stdout",
     "output_type": "stream",
     "text": [
      "Enter number of rows: 5\n",
      "    1 \n",
      "   1 1 \n",
      "  1 2 1 \n",
      " 1 3 3 1 \n",
      "1 4 6 4 1 \n"
     ]
    }
   ],
   "source": [
    "rows = int(input(\"Enter number of rows: \"))\n",
    "coef = 1\n",
    "\n",
    "for i in range(1, rows+1):\n",
    "    for space in range(1, rows-i+1):\n",
    "        print(\" \",end=\"\")\n",
    "    for j in range(0, i):\n",
    "        if j==0 or i==0:\n",
    "            coef = 1\n",
    "        else:\n",
    "            coef = coef * (i - j)//j\n",
    "        print(coef, end = \" \")\n",
    "    print()"
   ]
  },
  {
   "cell_type": "markdown",
   "id": "de11cb1f",
   "metadata": {},
   "source": [
    "# Q14) Write a python function to print Diamond Shaped Pattern shown below. Function must take integer input which represents the number of stars in the middle most line. E.g.: Input = 5"
   ]
  },
  {
   "cell_type": "code",
   "execution_count": 4,
   "id": "e671f0b4",
   "metadata": {},
   "outputs": [
    {
     "name": "stdout",
     "output_type": "stream",
     "text": [
      "please enter diamond's height:5\n",
      "      *\n",
      "     ***\n",
      "    *****\n",
      "   *******\n",
      "  *********\n",
      "   *******\n",
      "    *****\n",
      "     ***\n",
      "      *\n"
     ]
    }
   ],
   "source": [
    "h = int(input(\"please enter diamond's height:\"))\n",
    "\n",
    "for i in range(h):\n",
    "    print(\" \"*(h-i),'*' *(i*2+1))\n",
    "for i in range(h-2, -1, -1):\n",
    "    print(\" \"*(h-i), '*'*(i*2+1))"
   ]
  },
  {
   "cell_type": "markdown",
   "id": "d0fa6003",
   "metadata": {},
   "source": [
    "# Q15) Write a python function to print Diamond Shaped Character Pattern shown below. Function must take integer input within range 1 to 26, which represents the rank of the alphabet. E.g.: Input = 5 "
   ]
  },
  {
   "cell_type": "code",
   "execution_count": 5,
   "id": "8236c25e",
   "metadata": {},
   "outputs": [
    {
     "name": "stdout",
     "output_type": "stream",
     "text": [
      "please enter diamond's height:5\n",
      "      A\n",
      "     AAA\n",
      "    AAAAA\n",
      "   AAAAAAA\n",
      "  AAAAAAAAA\n",
      "   AAAAAAA\n",
      "    AAAAA\n",
      "     AAA\n",
      "      A\n"
     ]
    }
   ],
   "source": [
    "h = int(input(\"please enter diamond's height:\"))\n",
    "ascii_value=65\n",
    "\n",
    "for i in range(h):\n",
    "    alphabet=chr(ascii_value)\n",
    "    print(\" \"*(h-i),alphabet *(i*2+1))\n",
    "for i in range(h-2, -1, -1):\n",
    "    print(\" \"*(h-i), alphabet*(i*2+1))"
   ]
  },
  {
   "cell_type": "markdown",
   "id": "98237c15",
   "metadata": {},
   "source": [
    "# STATISTICS WORKSHEET-10\n",
    "Q1 to Q12 have only one correct answer. Choose the correct option to answer your question.\n",
    "1. Rejection of the null hypothesis is a conclusive proof that the alternative hypothesis is\n",
    "a. True\n",
    "b. False\n",
    "c. Neither\n",
    "2. Parametric test, unlike the non-parametric tests, make certain assumptions about\n",
    "a. The population size\n",
    "b. The underlying distribution\n",
    "c. The sample size\n",
    "3. The level of significance can be viewed as the amount of risk that an analyst will accept when making a decision\n",
    "a. True\n",
    "b. False\n",
    "4. By taking a level of significance of 5% it is the same as saying\n",
    "a. We are 5% confident the results have not occurred by chance\n",
    "b. We are 95% confident that the results have not occurred by chance\n",
    "c. We are 95% confident that the results have occurred by chance\n",
    "5. One or two tail test will determine\n",
    "a. If the two extreme values (min or max) of the sample need to be rejected\n",
    "b. If the hypothesis has one or possible two conclusions\n",
    "c. If the region of rejection is located in one or two tails of the distribution\n",
    "6. Two types of errors associated with hypothesis testing are Type I and Type II. Type II error is committed when\n",
    "a. We reject the null hypothesis whilst the alternative hypothesis is true\n",
    "b. We reject a null hypothesis when it is true\n",
    "c. We accept a null hypothesis when it is not true\n",
    "7. A randomly selected sample of 1,000 college students was asked whether they had ever used the drug Ecstasy. \n",
    "Sixteen percent (16% or 0.16) of the 1,000 students surveyed said they had. Which one of the following statements \n",
    "about the number 0.16 is correct? \n",
    "a. It is a sample proportion. \n",
    "b. It is a population proportion. \n",
    "c. It is a margin of error. \n",
    "d. It is a randomly chosen number. \n",
    "8. In a random sample of 1000 students, pˆ = 0.80 (or 80%) were in favour of longer hours at the school library. The \n",
    "standard error of pˆ (the sample proportion) is \n",
    "a. .013 \n",
    "b. .160 \n",
    "c. .640 \n",
    "d. .800 \n",
    "WORKSHEET\n",
    "9. For a random sample of 9 women, the average resting pulse rate is x = 76 beats per minute, and the sample standard \n",
    "deviation is s = 5. The standard error of the sample mean is \n",
    "a. 0.557 \n",
    "b. 0.745 \n",
    "c. 1.667 \n",
    "d. 2.778 \n",
    "10. Assume the cholesterol levels in a certain population have mean µ= 200 and standard deviation σ = 24. The \n",
    "cholesterol levels for a random sample of n = 9 individuals are measured and the sample mean x is determined. What \n",
    "is the z-score for a sample mean x = 180? \n",
    "a. –3.75 \n",
    "c. –2.50 \n",
    "c. −0.83 \n",
    "d. 2.50 \n",
    "11. In a past General Social Survey, a random sample of men and women answered the question “Are you a member \n",
    "of any sports clubs?” Based on the sample data, 95% confidence intervals for the population proportion who would \n",
    "answer “yes” are .13 to .19 for women and .247 to .33 for men. Based on these results, you can reasonably conclude \n",
    "that \n",
    "a. At least 25% of American men and American women belong to sports clubs. \n",
    "b. At least 16% of American women belong to sports clubs. \n",
    "c. There is a difference between the proportions of American men and American women who belong to sports clubs. \n",
    "d. There is no conclusive evidence of a gender difference in the proportion belonging to sports clubs. \n",
    "12. Suppose a 95% confidence interval for the proportion of Americans who exercise regularly is 0.29 to 0.37. Which \n",
    "one of the following statements is FALSE? \n",
    "a. It is reasonable to say that more than 25% of Americans exercise regularly. \n",
    "b. It is reasonable to say that more than 40% of Americans exercise regularly. \n",
    "c. The hypothesis that 33% of Americans exercise regularly cannot be rejected. \n",
    "d. It is reasonable to say that fewer than 40% of Americans exercise regularly. \n",
    "Q13 to Q15 are subjective answers type questions. Answers them in their own words briefly.\n",
    "13. How do you find the test statistic for two samples?\n",
    "14. How do you find the sample mean difference?\n",
    "15. What is a two sample t test example?"
   ]
  },
  {
   "cell_type": "markdown",
   "id": "1008217d",
   "metadata": {},
   "source": [
    "# Q1) Rejection of the null hypothesis is a conclusive proof that the alternative hypothesis is\n",
    "a. True\n",
    "b. False\n",
    "c. Neither\n",
    "\n",
    "ANSWER:\n",
    "a) True    "
   ]
  },
  {
   "cell_type": "markdown",
   "id": "82304052",
   "metadata": {},
   "source": [
    "# Q2) Parametric test, unlike the non-parametric tests, make certain assumptions about\n",
    "a. The population size\n",
    "b. The underlying distribution\n",
    "c. The sample size\n",
    "\n",
    "ANSWER:\n",
    "b) The underlying distribution.    "
   ]
  },
  {
   "cell_type": "markdown",
   "id": "8b863370",
   "metadata": {},
   "source": [
    "# Q3) The level of significance can be viewed as the amount of risk that an analyst will accept when making a decision\n",
    "a. True\n",
    "b. False\n",
    "\n",
    "ANSWER:\n",
    "a) True    "
   ]
  },
  {
   "cell_type": "markdown",
   "id": "eb52e8db",
   "metadata": {},
   "source": [
    "# Q4) By taking a level of significance of 5% it is the same as saying\n",
    "a. We are 5% confident the results have not occurred by chance\n",
    "b. We are 95% confident that the results have not occurred by chance\n",
    "c. We are 95% confident that the results have occurred by chance\n",
    "\n",
    "ANSWER:\n",
    "C) We are 95% confident that the results have occurred by chance.    \n"
   ]
  },
  {
   "cell_type": "markdown",
   "id": "8982e11d",
   "metadata": {},
   "source": [
    "# Q5) One or two tail test will determine\n",
    "a. If the two extreme values (min or max) of the sample need to be rejected\n",
    "b. If the hypothesis has one or possible two conclusions\n",
    "c. If the region of rejection is located in one or two tails of the distribution\n",
    "\n",
    "ANSWER:\n",
    "a) If the two extreme values (min or max) of the sample need to be rejected .   "
   ]
  },
  {
   "cell_type": "markdown",
   "id": "57ffb29d",
   "metadata": {},
   "source": [
    "# Q6) Two types of errors associated with hypothesis testing are Type I and Type II. Type II error is committed when\n",
    "a. We reject the null hypothesis whilst the alternative hypothesis is true\n",
    "b. We reject a null hypothesis when it is true\n",
    "c. We accept a null hypothesis when it is not true\n",
    "\n",
    "ANSWER:\n",
    "c) We accept a null hypothesis when it is not true    \n",
    "    "
   ]
  },
  {
   "cell_type": "markdown",
   "id": "0c06a857",
   "metadata": {},
   "source": [
    "# Q7) A randomly selected sample of 1,000 college students was asked whether they had ever used the drug Ecstasy. Sixteen percent (16% or 0.16) of the 1,000 students surveyed said they had. Which one of the following statements about the number 0.16 is correct? \n",
    "a. It is a sample proportion. \n",
    "b. It is a population proportion. \n",
    "c. It is a margin of error. \n",
    "d. It is a randomly chosen number.\n",
    "\n",
    "ANSWER:\n",
    "a) It is a sample proportion.    "
   ]
  },
  {
   "cell_type": "markdown",
   "id": "d2a753e8",
   "metadata": {},
   "source": [
    "# Q8) In a random sample of 1000 students, pˆ = 0.80 (or 80%) were in favour of longer hours at the school library. The standard error of pˆ (the sample proportion) is \n",
    "a. .013 \n",
    "b. .160 \n",
    "c. .640 \n",
    "d. .800 \n",
    "\n",
    "ANSWER:\n",
    "b) 0.160    "
   ]
  },
  {
   "cell_type": "markdown",
   "id": "b7a04618",
   "metadata": {},
   "source": [
    "# Q9) For a random sample of 9 women, the average resting pulse rate is x = 76 beats per minute, and the sample standard deviation is s = 5. The standard error of the sample mean is \n",
    "a. 0.557 \n",
    "b. 0.745 \n",
    "c. 1.667 \n",
    "d. 2.778\n",
    "\n",
    "ANSWER:\n",
    "c) 1.667"
   ]
  },
  {
   "cell_type": "markdown",
   "id": "b40ad22d",
   "metadata": {},
   "source": [
    "# Q10) Assume the cholesterol levels in a certain population have mean µ= 200 and standard deviation σ = 24. The cholesterol levels for a random sample of n = 9 individuals are measured and the sample mean x is determined. What is the z-score for a sample mean x = 180? \n",
    "a. –3.75 \n",
    "c. –2.50 \n",
    "c. −0.83 \n",
    "d. 2.50\n",
    "\n",
    "ANSWER:\n",
    "c) -0.83    \n",
    "    "
   ]
  },
  {
   "cell_type": "markdown",
   "id": "0c6c25fa",
   "metadata": {},
   "source": [
    "# Q11) In a past General Social Survey, a random sample of men and women answered the question “Are you a member of any sports clubs?” Based on the sample data, 95% confidence intervals for the population proportion who would answer “yes” are .13 to .19 for women and .247 to .33 for men. Based on these results, you can reasonably conclude that \n",
    "a. At least 25% of American men and American women belong to sports clubs. \n",
    "b. At least 16% of American women belong to sports clubs. \n",
    "c. There is a difference between the proportions of American men and American women who belong to sports clubs. \n",
    "d. There is no conclusive evidence of a gender difference in the proportion belonging to sports clubs.\n",
    "\n",
    "ANSWER:\n",
    "c) There is a difference between the proportions of American men and American women who belong to sports clubs."
   ]
  },
  {
   "cell_type": "markdown",
   "id": "07b04c56",
   "metadata": {},
   "source": [
    "# Q12) Suppose a 95% confidence interval for the proportion of Americans who exercise regularly is 0.29 to 0.37. Which one of the following statements is FALSE? \n",
    "a. It is reasonable to say that more than 25% of Americans exercise regularly. \n",
    "b. It is reasonable to say that more than 40% of Americans exercise regularly. \n",
    "c. The hypothesis that 33% of Americans exercise regularly cannot be rejected. \n",
    "d. It is reasonable to say that fewer than 40% of Americans exercise regularly.\n",
    "\n",
    "ANSWER:\n",
    "b) It is reasonable to say that more than 40% of Americans exercise regularly.   "
   ]
  },
  {
   "cell_type": "markdown",
   "id": "af15fec2",
   "metadata": {},
   "source": [
    "# Q13) How do you find the test statistic for two samples?\n",
    "\n",
    "ANSWER:\n",
    "\n",
    "To calculate a test statistic:\n",
    "\n",
    "1. Find the raw scores of the populations \n",
    "2. Assume you want to perform a z-test to determine whether the means of two populations are equal.\n",
    "3. Calculate the standard deviation of the population \n",
    "4. Find the standard deviation of the population you're evaluating.\n",
    "5. Calculate the population mean ...\n",
    "6. Evaluate the z-value ...\n",
    "7. Apply the t-test formula ..."
   ]
  },
  {
   "cell_type": "markdown",
   "id": "4999c4d5",
   "metadata": {},
   "source": [
    "# Q14) How do you find the sample mean difference?\n",
    "\n",
    "ANSWER:\n",
    "\n",
    "The formula for the mean of the sampling distribution of the difference between means is: μm1–m2 = μ1 – μ2    \n"
   ]
  },
  {
   "cell_type": "markdown",
   "id": "bb593036",
   "metadata": {},
   "source": [
    "# Q15) What is a two sample t test example?\n",
    "\n",
    "ANSWER:\n",
    "  \n",
    "The two-sample t-test (also known as the independent samples t-test) is a method used to test whether the unknown population means of two groups are equal or not."
   ]
  },
  {
   "cell_type": "markdown",
   "id": "a5142860",
   "metadata": {},
   "source": [
    "# MACHINE LEARNING\n",
    "ASSIGNMENT - 8\n",
    "In Q1 to Q7, only one option is correct, Choose the correct option:\n",
    "1. What is the advantage of hierarchical clustering over K-means clustering?\n",
    "A) Hierarchical clustering is computationally less expensive\n",
    "B) In hierarchical clustering you don’t need to assign number of clusters in beginning\n",
    "C) Both are equally proficient D) None of these\n",
    "2. Which of the following hyper parameter(s), when increased may cause random forest to over fit the \n",
    "data?\n",
    "A) max_depth B) n_estimators \n",
    "C) min_samples_leaf D) min_samples_splits\n",
    "3. Which of the following is the least preferable resampling method in handling imbalance datasets?\n",
    "A) SMOTE B) RandomOverSampler\n",
    "C) RandomUnderSampler D) ADASYN\n",
    "4. Which of the following statements is/are true about “Type-1” and “Type-2” errors?\n",
    "1. Type1 is known as false positive and Type2 is known as false negative.\n",
    "2. Type1 is known as false negative and Type2 is known as false positive.\n",
    "3. Type1 error occurs when we reject a null hypothesis when it is actually true.\n",
    "A) 1 and 2 B) 1 only\n",
    "C) 1 and 3 D) 2 and 3\n",
    "5. Arrange the steps of k-means algorithm in the order in which they occur:\n",
    "1. Randomly selecting the cluster centroids\n",
    "2. Updating the cluster centroids iteratively\n",
    "3. Assigning the cluster points to their nearest center\n",
    "A) 3-1-2 B) 2-1-3\n",
    "C) 3-2-1 D) 1-3-2\n",
    "6. Which of the following algorithms is not advisable to use when you have limited CPU resources and \n",
    "time, and when the data set is relatively large?\n",
    "A) Decision Trees B) Support Vector Machines\n",
    "C) K-Nearest Neighbors D) Logistic Regression\n",
    "7. What is the main difference between CART (Classification and Regression Trees) and CHAID (Chi \n",
    "Square Automatic Interaction Detection) Trees?\n",
    "A) CART is used for classification, and CHAID is used for regression.\n",
    "B) CART can create multiway trees (more than two children for a node), and CHAID can only create \n",
    "binary trees (a maximum of two children for a node).\n",
    "C) CART can only create binary trees (a maximum of two children for a node), and CHAID can create \n",
    "multiway trees (more than two children for a node)\n",
    "D) None of the above\n",
    "In Q8 to Q10, more than one options are correct, Choose all the correct options:\n",
    "8. In Ridge and Lasso regularization if you take a large value of regularization constant(lambda), which \n",
    "of the following things may occur?\n",
    "A) Ridge will lead to some of the coefficients to be very close to 0\n",
    "B) Lasso will lead to some of the coefficients to be very close to 0\n",
    "C) Ridge will cause some of the coefficients to become 0\n",
    "D) Lasso will cause some of the coefficients to become 0.\n",
    " MACHINE LEARNING\n",
    "ASSIGNMENT - 8\n",
    "9. Which of the following methods can be used to treat two multi-collinear features?\n",
    "A) remove both features from the dataset\n",
    "B) remove only one of the features \n",
    "C) Use ridge regularization D) use Lasso regularization \n",
    "10. After using linear regression, we find that the bias is very low, while the variance is very high. What \n",
    "are the possible reasons for this?\n",
    "A) Overfitting B) Multicollinearity\n",
    "C) Underfitting D) Outliers\n",
    "Q10 to Q15 are subjective answer type questions, Answer them briefly.\n",
    "11. In which situation One-hot encoding must be avoided? Which encoding technique can be used in \n",
    "such a case?\n",
    "12. In case of data imbalance problem in classification, what techniques can be used to balance the \n",
    "dataset? Explain them briefly.\n",
    "13. What is the difference between SMOTE and ADASYN sampling techniques?\n",
    "14. What is the purpose of using GridSearchCV? Is it preferable to use in case of large datasets? Why or \n",
    "why not?\n",
    "15. List down some of the evaluation metric used to evaluate a regression model. Explain each of them \n",
    "in brief."
   ]
  },
  {
   "cell_type": "markdown",
   "id": "45a16164",
   "metadata": {},
   "source": [
    "# Q1) What is the advantage of hierarchical clustering over K-means clustering?\n",
    "A) Hierarchical clustering is computationally less expensive\n",
    "B) In hierarchical clustering you don’t need to assign number of clusters in beginning\n",
    "C) Both are equally proficient \n",
    "D) None of these.\n",
    "\n",
    "ANSWER:\n",
    "D) None of these."
   ]
  },
  {
   "cell_type": "markdown",
   "id": "bbda49c6",
   "metadata": {},
   "source": [
    "# Q2) Which of the following hyper parameter(s),when increased may cause randomforest to over fit the data?\n",
    "A) max_depth\n",
    "B) n_estimators \n",
    "C) min_samples_leaf \n",
    "D) min_samples_splits\n",
    "\n",
    "ANSWER:\n",
    "A) max_depth"
   ]
  },
  {
   "cell_type": "markdown",
   "id": "1021f294",
   "metadata": {},
   "source": [
    "# Q3) Which of the following is the least preferable resampling method in handling imbalance datasets?\n",
    "A) SMOTE\n",
    "B) RandomOverSampler\n",
    "C) RandomUnderSampler\n",
    "D) ADASYN\n",
    "\n",
    "ANSWER:\n",
    "A) SMOTE    "
   ]
  },
  {
   "cell_type": "markdown",
   "id": "b1c30bcd",
   "metadata": {},
   "source": [
    "# Q4) Which of the following statements is/are true about “Type-1” and “Type-2” errors?\n",
    "1. Type1 is known as false positive and Type2 is known as false negative.\n",
    "2. Type1 is known as false negative and Type2 is known as false positive.\n",
    "3. Type1 error occurs when we reject a null hypothesis when it is actuallytrue.\n",
    "A) 1 and 2 \n",
    "B) 1 only\n",
    "C) 1 and 3\n",
    "D) 2 and 3\n",
    "\n",
    "ANSWER:\n",
    "D) 1 only."
   ]
  },
  {
   "cell_type": "markdown",
   "id": "fe0dc269",
   "metadata": {},
   "source": [
    "# Q5)Arrange the steps of k-means algorithm in the order in which they occur:\n",
    "1. Randomly selecting the cluster centroids\n",
    "2. Updating the cluster centroids iteratively\n",
    "3. Assigning the cluster points to their nearest center\n",
    "A) 3-1-2 \n",
    "B) 2-1-3\n",
    "C) 3-2-1\n",
    "D) 1-3-2\n",
    "\n",
    "ANSWER:\n",
    "A) 3-1-2    "
   ]
  },
  {
   "cell_type": "markdown",
   "id": "176e05fb",
   "metadata": {},
   "source": [
    "# Q6) Which of the following algorithms is not advisable to use when you have limited CPU resources and time, and when the data set is relatively large?\n",
    "A) Decision Trees \n",
    "B) Support Vector Machines\n",
    "C) K-Nearest Neighbors\n",
    "D) Logistic Regression\n",
    "\n",
    "ANSWER:\n",
    "D) LOGISTIC REGRESSION    \n"
   ]
  },
  {
   "cell_type": "markdown",
   "id": "a9bc1a9c",
   "metadata": {},
   "source": [
    "# Q7) What is the main difference between CART (Classification and Regression Trees) and CHAID (Chi Square Automatic Interaction Detection) Trees?\n",
    "A) CART is used for classification, and CHAID is used for regression.\n",
    "B) CART can create multiway trees (more than two children for a node), and CHAID can only create \n",
    "binary trees (a maximum of two children for a node).\n",
    "C) CART can only create binary trees (a maximum of two children for a node), and CHAID can create \n",
    "multiway trees (more than two children for a node)\n",
    "D) None of the above\n",
    "\n",
    "ANSWER:\n",
    "C) CART can only create binary trees(a maximum of two children for a node), and CHAID can create multiway trees(more than two children for a node)    \n"
   ]
  },
  {
   "cell_type": "markdown",
   "id": "968994ca",
   "metadata": {},
   "source": [
    "# Q8) In Ridge and Lasso regularization if you take a large value of regularization constant(lambda), which of the following things may occur?\n",
    "A) Ridge will lead to some of the coefficients to be very close to 0\n",
    "B) Lasso will lead to some of the coefficients to be very close to 0\n",
    "C) Ridge will cause some of the coefficients to become 0\n",
    "D) Lasso will cause some of the coefficients to become 0.\n",
    "\n",
    "ANSWER:\n",
    "\n",
    "A) Ridge will lead to some of the coefficients to be very close to 0\n",
    "D) Lasso will cause some of the coefficients to become 0.    "
   ]
  },
  {
   "cell_type": "markdown",
   "id": "f2438346",
   "metadata": {},
   "source": [
    "# Q9) Which of the following methods can be used to treat two multi-collinear features?\n",
    "A) remove both features from the dataset\n",
    "B) remove only one of the features \n",
    "C) Use ridge regularization\n",
    "D) use Lasso regularization \n",
    "\n",
    "ANSWER:\n",
    "C) Use ridge regularization\n",
    "D) use Lasso regularization    "
   ]
  },
  {
   "cell_type": "markdown",
   "id": "fb7dc4da",
   "metadata": {},
   "source": [
    "# Q10) After using linear regression, we find that the bias is very low, while the variance is very high. What are the possible reasons for this?\n",
    "A) Overfitting\n",
    "B) Multicollinearity\n",
    "C) Underfitting\n",
    "D) Outliers\n",
    "\n",
    "ANSWER:\n",
    "A) Overfitting  \n",
    "C) Underfitting\n"
   ]
  },
  {
   "cell_type": "markdown",
   "id": "147b8a02",
   "metadata": {},
   "source": [
    "# Q11) In which situation One-hot encoding must be avoided? Which encoding technique can be used in \n",
    "such a case?\n",
    "\n",
    "ANSWER:\n",
    "  \n",
    " One-Hot-Encoding has the advantage that the result is binary rather than ordinal and that everything sits in an orthogonal vector space. \n",
    "The disadvantage is that for high cardinality, the feature space can really blow up quickly and you start fighting with the curse of dimensionality.\n",
    "Also  for categorical variables where ordinal relationship exists, the one hot encoding is not enough. We have to use Label Encoder for ordinal data  "
   ]
  },
  {
   "cell_type": "markdown",
   "id": "5dd5b483",
   "metadata": {},
   "source": [
    "# Q12) In case of data imbalance problem in classification, what techniques can be used to balance the dataset? Explain them briefly.\n",
    "\n",
    "ANSWER:\n",
    "   An imbalanced classification problem is an example of a classification problem where the distribution of examples across the known classes is biased or skewed.\n",
    "Imbalanced classifications pose a challenge for predictive modeling as most of the machine learning algorithms used for classification were designed around the assumption of an equal number of examples for each class. This results in models that have poor predictive performance, specifically for the minority class.\n",
    "Two approaches to make a balanced dataset out of an imbalanced one are under-sampling and over-sampling.\n",
    "\n",
    "1) Under-sampling\n",
    "Under-sampling balances the dataset by reducing the size of the abundant class. This method is used when quantity of data is sufficient. \n",
    "By keeping all samples in the rare class and randomly selecting an equal number of samples in the abundant class, a balanced new dataset can be retrieved for further modelling.\n",
    "\n",
    "2) Over-sampling\n",
    "On the contrary, oversampling is used when the quantity of data is insufficient. It tries to balance dataset by increasing the size of rare samples. \n",
    "Rather than getting rid of abundant samples, new rare samples are generated by using e.g. repetition, bootstrapping or SMOTE (Synthetic Minority Over-Sampling Technique).\n",
    "\n",
    "3) Cluster-Based Over Sampling\n",
    "In this case, the K-means clustering algorithm is independently applied to minority and majority class instances. This is to identify clusters in the dataset. \n",
    "Subsequently, each cluster is oversampled such that all clusters of the same class have an equal number of instances and all classes have the same size. \n",
    "\n",
    "4)  Modified synthetic minority oversampling technique (MSMOTE) for imbalanced data\n",
    "It is a modified version of SMOTE. SMOTE does not consider the underlying distribution of the minority class and latent noises in the dataset. To improve the \n",
    "performance of SMOTE a modified method MSMOTE is used.  \n"
   ]
  },
  {
   "cell_type": "markdown",
   "id": "a234b6e4",
   "metadata": {},
   "source": [
    "# Q13) What is the difference between SMOTE and ADASYN sampling techniques?\n",
    "\n",
    "ANSWER:\n",
    "   SMOTE: Synthetic Minority Over sampling Technique (SMOTE) algorithm applies KNN approach where it selects K nearest neighbors, \n",
    "joins them and creates the synthetic samples in the space. The algorithm takes the feature vectors and its nearest neighbors, computes the distance between these vectors.\n",
    "The difference is multiplied by random number between (0, 1) and it is added back to feature. SMOTE algorithm is a pioneer algorithm and many other algorithms are derived from SMOTE.\n",
    "\n",
    "ADASYN: \n",
    "Adaptive Synthetic (ADASYN) is based on the idea of adaptively generating minority data samples according to their distributions using K nearest neighbor. \n",
    "The algorithm adaptively updates the distribution and there are no assumptions made for the underlying distribution of the data.  \n",
    "The algorithm uses Euclidean distance for KNN Algorithm. The key difference between ADASYN and SMOTE is that the former uses a density distribution,\n",
    "as a criterion to automatically decide the number of synthetic samples that must be generated for each minority sample by adaptively changing the weights of the\n",
    "different minority samples to compensate for the skewed distributions. The latter generates the same number of synthetic samples for each original minority sample.  "
   ]
  },
  {
   "cell_type": "markdown",
   "id": "9dedc44e",
   "metadata": {},
   "source": [
    "# Q14) What is the purpose of using GridSearchCV? Is it preferable to use in case of large datasets? Why or why not?\n",
    "\n",
    "ANSWER:\n",
    "   Grid search is the process of performing hyper parameter tuning in order to determine the optimal values for a given model.\n",
    "There are libraries that have been implemented, such as GridSearchCV of the sklearn library, in order to automate this process.\n",
    "Grid Search can be thought of as an exhaustive search for selecting a model. In Grid Search, the data scientist sets up a grid of hyperparameter values\n",
    "and for each combination, trains a model and scores on the testing data. In this approach, every combination of hyperparameter values is tried \n",
    "and when running it on larger dataset can be very inefficient.\n",
    "\n",
    "For example, searching 20 different parameter values for each of 4 parameters will require 160,000 trials of cross-validation. \n",
    "This equates to 1,600,000 model fits and 1,600,000 predictions if 10-fold cross validation is used. \n",
    "While Scikit Learn offers the GridSearchCV function to simplify the process, it would be an extremely costly execution both in computing power and time.   "
   ]
  },
  {
   "cell_type": "markdown",
   "id": "4bcc1493",
   "metadata": {},
   "source": [
    "# Q15) List down some of the evaluation metric used to evaluate a regression model. Explain each of them \n",
    "in brief.\n",
    "\n",
    "ANSWER:\n",
    " There are three main errors (metrics) used to evaluate models, Mean absolute error, Mean Squared error and R2 score.\n",
    "\n",
    "Mean Absolute Error (MAE): Lets take an example where we have some points. We have a line that fits those points.When we do a summation of the absolute value distance from the points to the line, we get Mean absolute error.The problem with this metric is that it is not differentiable.\n",
    "\n",
    "Mean Squared Error (MSE): Mean Squared Error solves differentiability problem of the MAE. Consider the same diagram above. We have a line that fits those points. When we do a summation of the square of distances from the points to the line, we get Mean squared error.\n",
    "\n",
    "R2 Score: R2 score answers the question that if this simple model has a larger error than the linear regression model. However, it terms of metrics the answer we need is how much larger.\n",
    "The R2 score answers this question. R2 score is 1 — (Error from Linear Regression Model/Simple average model).\n",
    "\n",
    "Best possible score is 1.0 and it can be negative (because the model can be arbitrarily worse). A constant model that always predicts the expected value of y, disregarding the input features, would get a R² score of 0.0.   "
   ]
  },
  {
   "cell_type": "code",
   "execution_count": null,
   "id": "bf825ee2",
   "metadata": {},
   "outputs": [],
   "source": []
  }
 ],
 "metadata": {
  "kernelspec": {
   "display_name": "Python 3 (ipykernel)",
   "language": "python",
   "name": "python3"
  },
  "language_info": {
   "codemirror_mode": {
    "name": "ipython",
    "version": 3
   },
   "file_extension": ".py",
   "mimetype": "text/x-python",
   "name": "python",
   "nbconvert_exporter": "python",
   "pygments_lexer": "ipython3",
   "version": "3.9.12"
  }
 },
 "nbformat": 4,
 "nbformat_minor": 5
}
