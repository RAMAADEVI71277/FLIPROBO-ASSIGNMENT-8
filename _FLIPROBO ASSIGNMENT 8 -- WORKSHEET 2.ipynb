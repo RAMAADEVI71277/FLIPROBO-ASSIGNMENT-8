{
 "cells": [
  {
   "cell_type": "markdown",
   "id": "28a09e35",
   "metadata": {},
   "source": [
    "# PYTHON WORKSHEET \n",
    "\n",
    "Q1 to Q7 have only one correct answer. Choose the correct option to answer your question. \n",
    "1. Which of the following is not a core datatype in python? \n",
    "A) list B) struct \n",
    "C) tuple C) set \n",
    "2. Which of the following is an invalid variable name in python? \n",
    "A) _init_ B) no_1 \n",
    "C) 1_no D) _1 \n",
    "3. Which one of the following is a keyword in python? \n",
    "A) in B) _init_ \n",
    "C) on D) foo \n",
    "4. In which of the following manner are the operators of the same precedence executed in python? \n",
    "A) Left to Right B) BODMAS \n",
    "C) Right to Left D) None of these \n",
    "5. Arrange the following in decreasing order of the precedence when they appear in an expression in python? \n",
    "i) Multiplication ii) Division iii) Exponential iv) Parentheses \n",
    "A) iii – iv – ii – i B) iii – iv – i – ii \n",
    "C) iv – iii – ii – i D) iii – ii – i – iv \n",
    "6. (28//6)**3/3%3 = ? \n",
    "A) 7.1111… B) 0 \n",
    "C) 0.3333… D) 1 \n",
    "7. a = input(“Enter an integer”). What will be the data type of a? \n",
    "A) int B) str \n",
    "C) float D) double \n",
    "Q8 and Q10 have multiple correct answers. Choose all the correct options to answer your question. \n",
    "8. Which of the following statements are correct? \n",
    "A) Division and multiplication have same precedence in python \n",
    "B) Python’s operators’ precedence is based on PEDMAS \n",
    "C) Python’s operators’ precedence is based on VBODMAS \n",
    "D) In case of operators’ having the same precedence, the one on the left side is executed\n",
    " first. \n",
    "9. Which of the following is(are) valid statement(s) in python? \n",
    "A) abc = 1,000,000 B) a b c = 1000 2000 3000 \n",
    "C) a,b,c = 1000, 2000, 3000 D) a_b_c = 1,000,000 \n",
    "ASSIGNMENT\n",
    "10. Which of the following is not equal to x16 in \n",
    "python? \n",
    "A) x**4**4 B) x**16 \n",
    "C) x^16 D) (x**4)**4 \n",
    "Q11 to Q13 are subjective questions, answer them briefly \n",
    "11. Differentiate between a list, tuple, set and dictionary. \n",
    "12. Are strings mutable in python? Suppose you have a string “I+Love+Python”, write a small code to replace ‘+’ \n",
    "with space in python. \n",
    "13. What does the function ord() do in python? Explain with an example. Also, write down the function for \n",
    "getting the data type of a variable in python. \n",
    "Q14 and Q15 are programming questions. Answer them in Jupyter Notebook. \n",
    "14. Write a python program to solve a quadratic equation of the form ax^2+bx+c=0. Where a, b and c are to be \n",
    "taken by user input. Handle the erroneous input, such as ‘a’ should not be equal to 0. \n",
    "15. Write a python program to find the sum of first ‘n’ natural numbers without using any loop. Ask users to \n",
    "input the value of ‘n’."
   ]
  },
  {
   "cell_type": "markdown",
   "id": "a66e8a55",
   "metadata": {},
   "source": [
    "# Q1. Which of the following is not a core datatype in python? \n",
    "A) list\n",
    "B) struct \n",
    "C) tuple\n",
    "C) set \n",
    " \n",
    "ANSWER:\n",
    "B)struct    "
   ]
  },
  {
   "cell_type": "markdown",
   "id": "2631c6ea",
   "metadata": {},
   "source": [
    "# Q2. Which of the following is an invalid variable name in python? \n",
    "A) _init_\n",
    "B) no_1 \n",
    "C) 1_no \n",
    "D) _1 \n",
    "\n",
    "ANSWER:\n",
    "C) 1_no\n",
    "    "
   ]
  },
  {
   "cell_type": "markdown",
   "id": "bd0851af",
   "metadata": {},
   "source": [
    "# Q3) Which one of the following is a keyword in python? \n",
    "A) in\n",
    "B) _init_ \n",
    "C) on \n",
    "D) foo\n",
    "\n",
    "ANSWER:\n",
    "A) in     "
   ]
  },
  {
   "cell_type": "markdown",
   "id": "4dec2c28",
   "metadata": {},
   "source": [
    "# Q4) In which of the following manner are the operators of the same precedence executed in python? \n",
    "A) Left to Right\n",
    "B) BODMAS \n",
    "C) Right to Left\n",
    "D) None of these\n",
    "\n",
    "ANSWER:\n",
    "A) Left to Right     "
   ]
  },
  {
   "cell_type": "markdown",
   "id": "d56c7b2b",
   "metadata": {},
   "source": [
    "# Q5) Arrange the following in decreasing order of the precedence when they appear in an expression in python? \n",
    "i) Multiplication ii) Division iii) Exponential iv) Parentheses \n",
    "A) iii – iv – ii – i\n",
    "B) iii – iv – i – ii \n",
    "C) iv – iii – ii – i \n",
    "D) iii – ii – i – iv \n",
    "\n",
    "ANSWER:\n",
    "C) iv – iii – ii – i    "
   ]
  },
  {
   "cell_type": "markdown",
   "id": "1bd7f316",
   "metadata": {},
   "source": [
    "# Q6) (28//6)**3/3%3 = ? \n",
    "A) 7.1111… \n",
    "B) 0 \n",
    "C) 0.3333… \n",
    "D) 1 \n",
    "\n",
    "ANSWER:\n",
    "C) 0.3333...      "
   ]
  },
  {
   "cell_type": "markdown",
   "id": "28584b18",
   "metadata": {},
   "source": [
    "# Q7) a = input(“Enter an integer”). What will be the data type of a? \n",
    "A) int \n",
    "B) str \n",
    "C) float\n",
    "D) double\n",
    "\n",
    "ANSWER:\n",
    "B) str    "
   ]
  },
  {
   "cell_type": "markdown",
   "id": "57de84d8",
   "metadata": {},
   "source": [
    "# Q8) Which of the following statements are correct? \n",
    "A) Division and multiplication have same precedence in python \n",
    "B) Python’s operators’ precedence is based on PEDMAS \n",
    "C) Python’s operators’ precedence is based on VBODMAS \n",
    "D) In case of operators’ having the same precedence, the one on the left side is executed\n",
    " first. \n",
    "    \n",
    "ANSWER:\n",
    "A) Division and multiplication have same precedence in python \n",
    "B) Python’s operators’ precedence is based on PEDMAS \n",
    "D) In case of operators’ having the same precedence, the one on the left side is executed\n",
    " first.     \n",
    "    "
   ]
  },
  {
   "cell_type": "markdown",
   "id": "9ed702cb",
   "metadata": {},
   "source": [
    "# Q9. Which of the following is(are) valid statement(s) in python? \n",
    "A) abc = 1,000,000\n",
    "B) a b c = 1000 2000 3000 \n",
    "C) a,b,c = 1000, 2000, 3000 \n",
    "D) a_b_c = 1,000,000 \n",
    "\n",
    "ANSWER:\n",
    "A) abc = 1,000,000\n",
    "C) a,b,c = 1000, 2000, 3000 \n",
    "D) a_b_c = 1,000,000     "
   ]
  },
  {
   "cell_type": "markdown",
   "id": "d5b748f7",
   "metadata": {},
   "source": [
    "# Q10) Which of the following is not equal to x**16 in python? \n",
    "A) x**4**4 \n",
    "B) x**16 \n",
    "C) x^16\n",
    "D) (x**4)**4 \n",
    "\n",
    "ANSWER:\n",
    "A) x**4**4\n",
    "D) (x**4)**4"
   ]
  },
  {
   "cell_type": "markdown",
   "id": "04c94be5",
   "metadata": {},
   "source": [
    "# Q11) Differentiate between a list, tuple, set and dictionary. \n",
    "\n",
    "List, tuple, dictionary, and set are different types of collections in Python. List and tuple are ordered collections of items, while dictionary and set are unordered collections of items. List and dictionary are mutable, meaning they can be changed or replaced, while tuple and set are immutable, meaning they cannot be changed or replaced. Dictionary holds key:value pairs, while the other collections hold single values. Set has no duplicate elements, while the other collections can have duplicates. Set and dictionary are faster for checking if an item is present than list and tuple."
   ]
  },
  {
   "cell_type": "markdown",
   "id": "35e6730d",
   "metadata": {},
   "source": [
    "# Q12) Are strings mutable in python? Suppose you have a string “I+Love+Python”, write a small code to replace ‘+’ \n",
    "with space in python. \n",
    "\n",
    "YES, strings are mutable in python.\n",
    "\n",
    "The following program completes the answer"
   ]
  },
  {
   "cell_type": "code",
   "execution_count": 1,
   "id": "b75b4f26",
   "metadata": {},
   "outputs": [],
   "source": [
    "str=\"I+Love+Python\"\n",
    "s=\"I Love Python\"\n",
    "str=s"
   ]
  },
  {
   "cell_type": "code",
   "execution_count": 2,
   "id": "cf482185",
   "metadata": {},
   "outputs": [
    {
     "data": {
      "text/plain": [
       "'I Love Python'"
      ]
     },
     "execution_count": 2,
     "metadata": {},
     "output_type": "execute_result"
    }
   ],
   "source": [
    "str"
   ]
  },
  {
   "cell_type": "markdown",
   "id": "19f6124c",
   "metadata": {},
   "source": [
    "# Q13) What does the function ord() do in python? Explain with an example. Also, write down the function for getting the data type of a variable in python. \n",
    "\n",
    "Python ord() function returns the Unicode code from a given character. This function accepts a string of unit length as an argument and returns the Unicode equivalence of the passed argument. In other words, given a string of length 1, the ord() function returns an integer representing the Unicode code point of the character when an argument is a Unicode object, or the value of the byte when the argument is an 8-bit string."
   ]
  },
  {
   "cell_type": "code",
   "execution_count": 3,
   "id": "18c0cea1",
   "metadata": {},
   "outputs": [
    {
     "name": "stdout",
     "output_type": "stream",
     "text": [
      "97\n",
      "122\n",
      "<class 'int'>\n",
      "<class 'int'>\n"
     ]
    }
   ],
   "source": [
    "v=ord('a')\n",
    "v1=ord('z')\n",
    "print(v)\n",
    "print(v1)\n",
    "print(type(v))\n",
    "print(type(v1))"
   ]
  },
  {
   "cell_type": "markdown",
   "id": "4d802c9b",
   "metadata": {},
   "source": [
    "# Q14) Write a python program to solve a quadratic equation of the form ax^2+bx+c=0. Where a, b and c are to be taken by user input. Handle the erroneous input, such as ‘a’ should not be equal to 0. "
   ]
  },
  {
   "cell_type": "code",
   "execution_count": 4,
   "id": "1413994a",
   "metadata": {},
   "outputs": [
    {
     "name": "stdout",
     "output_type": "stream",
     "text": [
      "Enter a = 2\n",
      "Enter b = 3\n",
      "Enter c = 4\n",
      "The solution are (-0.75-1.1989578808281798j) and (-0.75+1.1989578808281798j)\n"
     ]
    }
   ],
   "source": [
    "import cmath\n",
    "a=int(input('Enter a = '))\n",
    "b=int(input('Enter b = '))\n",
    "c=int(input('Enter c = '))\n",
    "if a != 0:\n",
    "    d = (b**2) - (4*a*c)\n",
    "    sol1 = (-b-cmath.sqrt(d))/(2*a)\n",
    "    sol2 = (-b+cmath.sqrt(d))/(2*a)\n",
    "    print('The solution are {0} and {1}'.format(sol1,sol2))\n",
    "    \n",
    "else:\n",
    "    print('This is not a quadratic equation')"
   ]
  },
  {
   "cell_type": "markdown",
   "id": "6fc60bae",
   "metadata": {},
   "source": [
    "# Q15) Write a python program to find the sum of first ‘n’ natural numbers without using any loop. Ask users to input the value of ‘n’."
   ]
  },
  {
   "cell_type": "code",
   "execution_count": 5,
   "id": "3b3a8f5e",
   "metadata": {},
   "outputs": [
    {
     "name": "stdout",
     "output_type": "stream",
     "text": [
      "Enter any natural number = 8\n",
      "36\n"
     ]
    }
   ],
   "source": [
    "# LOOP METHOD\n",
    "n=int(input('Enter any natural number = '))\n",
    "sum=0\n",
    "for i in range(0,n+1):\n",
    "    sum+=i\n",
    "print(sum)    "
   ]
  },
  {
   "cell_type": "code",
   "execution_count": 6,
   "id": "d53cff28",
   "metadata": {},
   "outputs": [
    {
     "name": "stdout",
     "output_type": "stream",
     "text": [
      "Enter any natural number =7\n",
      "28.0\n"
     ]
    }
   ],
   "source": [
    "# FORMULA METHOD\n",
    "n=int(input('Enter any natural number ='))\n",
    "sum=(n*(n+1)/2)\n",
    "print(sum)"
   ]
  },
  {
   "cell_type": "markdown",
   "id": "af998872",
   "metadata": {},
   "source": [
    "# STATISTICS WORKSHEET-9\n",
    "Q1 to Q12 have only one correct answer. Choose the correct option to answer your question.\n",
    "1. The owner of a travel agency would like to determine whether or not the mean age of the agency's customers is over \n",
    "24. If so, he plans to alter the destination of their special cruises and tours. If he concludes the mean age is over 24 \n",
    "when it is not, he makes a _______ error. If he concludes the mean age is not over 24 when it is, he makes a \n",
    "______error. \n",
    "a. Type II; Type II \n",
    "b. Type I; Type I \n",
    "c. Type I; Type II \n",
    "d. Type II; Type I \n",
    "2. Suppose we wish to test H0: µ =53 vs H1: µ > 53. What will result if we conclude that the mean is greater than 53 \n",
    "when its true value is really 55? \n",
    "a. We have made a Type I error \n",
    "b. We have made a correct decision \n",
    "c. We have made a Type II error \n",
    "d. None of the above are correct \n",
    "3. The value that separates a rejection region from an acceptance region is called a ___________. \n",
    "a. parameter \n",
    "b. critical value \n",
    "c. confidence coefficient \n",
    "d. significance level \n",
    "4. A hypothesis test is used to prevent a machine from under filling or overfilling quart bottles of beer. On the basis of \n",
    "sample, the machine is shut down for inspection. A thorough examination reveals there is nothing wrong with the \n",
    "filling machine. From a statistical point of view: \n",
    "a. Both Type I and Type II errors were made. \n",
    "b. A Type I error was made. \n",
    "c. A Type II error was made. \n",
    "d. A correct decision was made. \n",
    "5. Suppose we wish to test H0 : µ =21 vs H1 : µ > 21. Which of the following possible sample results gives the most \n",
    "evidence to support H1 (i.e., reject H0)? Hint: Compute Z-score.\n",
    "a. x = 23 s , = 3 \n",
    "b. x = 19 s , = 4 \n",
    "c. x = 17 s , = 7 \n",
    "d. x = 18 s , = 6 \n",
    "6. Given H0: µ = 25, H1: µ ≠ 25, and P-value = 0.041. Do you reject or fail to reject H0 at the 0.01 level of \n",
    "significance? \n",
    "a. fail to reject H0 \n",
    "b. not sufficient information to decide \n",
    "c. reject H0\n",
    "WORKSHEET\n",
    "7. A bottling company needs to produce bottles that will hold 12 ounces of liquid. Periodically, the company gets \n",
    "complaints that their bottles are not holding enough liquid. To test this claim, the bottling company randomly samples \n",
    "36 bottles. Suppose the p-value of this test turned out to be 0.0455. State the proper conclusion. \n",
    "a. At α = 0.085, fail to reject the null hypothesis. \n",
    "b. At α = 0.035, accept the null hypothesis. \n",
    "c. At α = 0.05, reject the null hypothesis. \n",
    "d. At α = 0.025, reject the null hypothesis. \n",
    "8. If a hypothesis test were conducted using α = 0.05, for which of the following p-values would the null hypothesis be \n",
    "rejected? \n",
    "a. 0.100 \n",
    "b. 0.041 \n",
    "c. 0.055 \n",
    "d. 0.060 \n",
    "9 . For H1: µ > µ0 p-value is 0.042. What will be the p-value for Ha: µ < µo? \n",
    "a. 0.084 \n",
    "b. 0.021 \n",
    "c. 0.958 \n",
    "d. 0.042 \n",
    "10. The test statistic is t = 2.63 and the p-value is 0.9849. What type of test is this? \n",
    "a. Right tail \n",
    "b. Two tail \n",
    "c. Left tail \n",
    "d. Can't tell \n",
    "11. The test statistic is z =2.75, the critical value is z = 2.326. The p- value is …\n",
    "a. Less than the significance level \n",
    "b. Equal to the significance level \n",
    "c. Large than the significance level \n",
    "12. The area to the left of the test statistic is 0.375. What is the probability value if this is a left tail test? \n",
    "a. 0.750 \n",
    "b. 0.375 \n",
    "c. 0.1885 \n",
    "d. 0.625\n",
    "Q13 to Q15 are subjective answers type questions, Answers them in their own words briefly.\n",
    "13.What is T distribution and Z distribution?\n",
    "14.Is the T distribution normal?\n",
    "15.What does the T distribution tell us?"
   ]
  },
  {
   "cell_type": "markdown",
   "id": "4099edc4",
   "metadata": {},
   "source": [
    "# Q1)The owner of a travel agency would like to determine whether or not the mean age of the agency's customers is over 24. If so, he plans to alter the destination of their special cruises and tours. If he concludes the mean age is over 24 when it is not, he makes a _______ error. If he concludes the mean age is not over 24 when it is, he makes a ______error. \n",
    "a. Type II; Type II \n",
    "b. Type I; Type I \n",
    "c. Type I; Type II \n",
    "d. Type II; Type I \n",
    "\n",
    "ANSWER:\n",
    " C) Type I ; Type II   "
   ]
  },
  {
   "cell_type": "markdown",
   "id": "c0c2f49b",
   "metadata": {},
   "source": [
    "# Q2) Suppose we wish to test H0: µ =53 vs H1: µ > 53. What will result if we conclude that the mean is greater than 53 when its true value is really 55? \n",
    "a. We have made a Type I error \n",
    "b. We have made a correct decision \n",
    "c. We have made a Type II error \n",
    "d. None of the above are correct \n",
    "\n",
    "ANSWER:\n",
    "b) We have made a correct decision.    "
   ]
  },
  {
   "cell_type": "markdown",
   "id": "6649efbf",
   "metadata": {},
   "source": [
    "# Q3) The value that separates a rejection region from an acceptance region is called a ___________. \n",
    "a. parameter \n",
    "b. critical value \n",
    "c. confidence coefficient \n",
    "d. significance level \n",
    "\n",
    "ANSWER:\n",
    "b) critical value    "
   ]
  },
  {
   "cell_type": "markdown",
   "id": "4ef16e3c",
   "metadata": {},
   "source": [
    "# Q4) A hypothesis test is used to prevent a machine from under filling or overfilling quart bottles of beer. On the basis of sample, the machine is shut down for inspection. A thorough examination reveals there is nothing wrong with the filling machine. From a statistical point of view: \n",
    "a. Both Type I and Type II errors were made. \n",
    "b. A Type I error was made. \n",
    "c. A Type II error was made. \n",
    "d. A correct decision was made. \n",
    "\n",
    "ANSWER:\n",
    "b) A Type I error was made."
   ]
  },
  {
   "cell_type": "markdown",
   "id": "6e434f75",
   "metadata": {},
   "source": [
    "# Q5) Suppose we wish to test H0 : µ =21 vs H1 : µ > 21. Which of the following possible sample results gives the most evidence to support H1 (i.e., reject H0)? Hint: Compute Z-score.\n",
    "a. x = 23 s , = 3 \n",
    "b. x = 19 s , = 4 \n",
    "c. x = 17 s , = 7 \n",
    "d. x = 18 s , = 6 \n",
    "\n",
    "ANSWER:\n",
    "c) x = 17 s , = 6"
   ]
  },
  {
   "cell_type": "markdown",
   "id": "13d86502",
   "metadata": {},
   "source": [
    "# Q6) Given H0: µ = 25, H1: µ ≠ 25, and P-value = 0.041. Do you reject or fail to reject H0 at the 0.01 level of significance? \n",
    "a. fail to reject H0 \n",
    "b. not sufficient information to decide \n",
    "c. reject H0\n",
    "\n",
    "ANSWER:\n",
    "a) fail to reject H0    "
   ]
  },
  {
   "cell_type": "markdown",
   "id": "3a27835f",
   "metadata": {},
   "source": [
    "# Q7) A bottling company needs to produce bottles that will hold 12 ounces of liquid. Periodically, the company gets complaints that their bottles are not holding enough liquid. To test this claim, the bottling company randomly samples 36 bottles. Suppose the p-value of this test turned out to be 0.0455. State the proper conclusion. \n",
    "a. At α = 0.085, fail to reject the null hypothesis. \n",
    "b. At α = 0.035, accept the null hypothesis. \n",
    "c. At α = 0.05, reject the null hypothesis. \n",
    "d. At α = 0.025, reject the null hypothesis. \n",
    "\n",
    "ANSWER:\n",
    "c)  At α = 0.05, reject the null hypothesis.     "
   ]
  },
  {
   "cell_type": "markdown",
   "id": "874b46a1",
   "metadata": {},
   "source": [
    "# Q8) If a hypothesis test were conducted using α = 0.05, for which of the following p-values would the null hypothesis be rejected? \n",
    "a. 0.100 \n",
    "b. 0.041 \n",
    "c. 0.055 \n",
    "d. 0.060 \n",
    "\n",
    "ANSWER:\n",
    "b) 0.041    "
   ]
  },
  {
   "cell_type": "markdown",
   "id": "5f5cda17",
   "metadata": {},
   "source": [
    "# Q9) For H1: µ > µ0 p-value is 0.042. What will be the p-value for Ha: µ < µo? \n",
    "a. 0.084 \n",
    "b. 0.021 \n",
    "c. 0.958 \n",
    "d. 0.042 \n",
    "\n",
    "ANSWER:\n",
    "c) 0.958    "
   ]
  },
  {
   "cell_type": "markdown",
   "id": "16362716",
   "metadata": {},
   "source": [
    "# Q10) The test statistic is t = 2.63 and the p-value is 0.9849. What type of test is this? \n",
    "a. Right tail \n",
    "b. Two tail \n",
    "c. Left tail \n",
    "d. Can't tell \n",
    "\n",
    "ANSWER:\n",
    "c)Left tail.    "
   ]
  },
  {
   "cell_type": "markdown",
   "id": "5b5f05f2",
   "metadata": {},
   "source": [
    "# Q11) The test statistic is z =2.75, the critical value is z = 2.326. The p- value is …\n",
    "a. Less than the significance level \n",
    "b. Equal to the significance level \n",
    "c. Large than the significance level \n",
    "\n",
    "ANSWER:\n",
    "a) Less than the significance level.    \n",
    "    "
   ]
  },
  {
   "cell_type": "markdown",
   "id": "3cf83fab",
   "metadata": {},
   "source": [
    "# Q12) The area to the left of the test statistic is 0.375. What is the probability value if this is a left tail test? \n",
    "a. 0.750 \n",
    "b. 0.375 \n",
    "c. 0.1885 \n",
    "d. 0.625\n",
    "\n",
    "ANSWER:\n",
    "b) 0.375    \n"
   ]
  },
  {
   "cell_type": "markdown",
   "id": "aef7aa0d",
   "metadata": {},
   "source": [
    "# Q13) What is T distribution and Z distribution?\n",
    "\n",
    "The z-distribution and the t-distribution are both used for inference, but they have different assumptions and applications. The z-distribution, also called the standard normal distribution, has a mean of 0 and a standard deviation of 1. It is used when the population standard deviation is known or the sample size is large (at least 30). The t-distribution, also called the Student's t-distribution, is similar to the z-distribution, but has fatter tails and is sensitive to sample size. It is used when the population standard deviation is unknown or the sample size is small (less than 30). As the sample size increases, the t-distribution approaches the z-distribution."
   ]
  },
  {
   "cell_type": "markdown",
   "id": "61d72803",
   "metadata": {},
   "source": [
    "# Q14) Is the T distribution normal?\n",
    "\n",
    "It is a type of normal distribution used for smaller sample sizes, where the variance in the data is unknown"
   ]
  },
  {
   "cell_type": "markdown",
   "id": "f1f5e588",
   "metadata": {},
   "source": [
    "# Q15) What does the T distribution tell us?\n",
    "\n",
    "In statistics ,the t-distribution is most often used to :\n",
    "    1)Find the critical values for a confidence interval when the data is approximately normally distributed.\n",
    "    2)Find the corresponding p-value from a statistical test that uses the t-distribution (t-tests, regression analysis)."
   ]
  },
  {
   "cell_type": "markdown",
   "id": "c298cdd3",
   "metadata": {},
   "source": [
    "# MACHINE LEARNING\n",
    "ASSIGNMENT - 9\n",
    "1. Which of the following are disadvantages of using Hard Margin SVM classifier? \n",
    "A) They allow misclassifications, that’s why they are not optimal.\n",
    "B) They cannot be used when the data is not completely linearly separable while allowing no errors.\n",
    "C) They are not optimal to use in case of outliers.\n",
    "D) None of the above.\n",
    "2. Which of the following statements are true regarding maximal margin classifier? \n",
    "A) It is the most optimal classifier in a completely linearly separable data. \n",
    "B) It’s the classifier for which the margin length or the distance between the closest data-point on either\n",
    "side of the classifier and the classifier is maximized. \n",
    "C) Any possible classifier which can linearly separate the data of two classes is called maximal margin \n",
    "classifier.\n",
    "D) All of the above.\n",
    "3. Which of the following statements are true regarding soft margin SVM classifier? \n",
    "A) They are less sensitive to outliers and can be used even in their presence. \n",
    "B) They make sure that there is no data point present in the margin area. \n",
    "C) They allow some degree of errors or misclassification.\n",
    "D) They can be used in case data is not completely linearly separable.\n",
    "4. Which of the following statements are true regarding SVMs? \n",
    "A) They take the data from lower dimensional space to some higher dimensional space in case the \n",
    "data is not likely to be linearly separable.\n",
    "B) They use the kernel tricks to escape the complex computations required to transform the data.\n",
    "C) If the data is not linearly separable SVM technique cannot be used.\n",
    "D) All of the above.\n",
    "5. Which of the following Statements are true regarding the Kernel functions used in SVM?\n",
    "A) These functions gives value of the dot product of pairs of data-points in the desired higher. \n",
    "dimensional space without even explicitly converting the whole data in to higher dimensional space.\n",
    "B) We have to first convert the whole data in to the higher dimensional space before applying the \n",
    "kernel function.\n",
    "C) The data product values given by the kernel functions are used to find the classifier in the higher \n",
    "dimensional space. \n",
    "D) None of the above \n",
    "6. How can SVM be classified?\n",
    "A) It is a model trained using unsupervised learning. It can be used for classification and regression.\n",
    "B) It is a model trained using unsupervised learning. It can be used for classification but not for\n",
    "regression\n",
    "C) It is a model trained using supervised learning. It can be used for classification and regression.\n",
    "D) It is a model trained using supervised learning. It can be used for classification not for\n",
    "regression.\n",
    "7. The quality of an SVM model depends upon:\n",
    "A) Selection of Kernel \n",
    "B) Kernel Parameters\n",
    " C) Soft Margin Parameter C \n",
    "D) All of the above\n",
    "8. The SVM’s are less effective when:\n",
    "A) The data is linearly separable.\n",
    "B) The data is clean and ready to use.\n",
    "C) The data is noisy and contains overlapping points.\n",
    "D) None of these.\n",
    "9. What would happen when you use very small C (C~0)?\n",
    "A) Misclassification would happen.\n",
    "B) Data will be correctly classified.\n",
    "C) Can’t say\n",
    "D) None of these.\n",
    "10. What do you mean by generalization error in terms of the SVM?\n",
    "A) How far the hyperplane is from the support vectors.\n",
    "B) How accurately the SVM can predict outcomes for unseen data.\n",
    "C) The threshold amount of error in an SVM.\n",
    "D) None of these."
   ]
  },
  {
   "cell_type": "markdown",
   "id": "ed675e2c",
   "metadata": {},
   "source": [
    "# Q1) Which of the following are disadvantages of using Hard Margin SVM classifier? \n",
    "A) They allow misclassifications, that’s why they are not optimal.\n",
    "B) They cannot be used when the data is not completely linearly separable while allowing no errors.\n",
    "C) They are not optimal to use in case of outliers.\n",
    "D) None of the above.\n",
    "\n",
    "ANSWER:\n",
    "B) They cannot be used when the data is not completely linearly separable while allowing no errors.\n"
   ]
  },
  {
   "cell_type": "markdown",
   "id": "103f471a",
   "metadata": {},
   "source": [
    "# Q2) Which of the following statements are true regarding maximal margin classifier? \n",
    "A) It is the most optimal classifier in a completely linearly separable data. \n",
    "B) It’s the classifier for which the margin length or the distance between the closest data-point on either\n",
    "side of the classifier and the classifier is maximized. \n",
    "C) Any possible classifier which can linearly separate the data of two classes is called maximal margin \n",
    "classifier.\n",
    "D) All of the above.\n",
    "\n",
    "ANSWER:\n",
    "D) All of the above.    \n"
   ]
  },
  {
   "cell_type": "markdown",
   "id": "7254819d",
   "metadata": {},
   "source": [
    "# Q3) Which of the following statements are true regarding soft margin SVM classifier? \n",
    "A) They are less sensitive to outliers and can be used even in their presence. \n",
    "B) They make sure that there is no data point present in the margin area. \n",
    "C) They allow some degree of errors or misclassification.\n",
    "D) They can be used in case data is not completely linearly separable.\n",
    "\n",
    "ANSWER:\n",
    "A) They are less sensitive to outliers and can be used even in their presence. \n",
    "C) They allow some degree of errors or misclassification.\n",
    "D) They can be used in case data is not completely linearly separable.    \n"
   ]
  },
  {
   "cell_type": "markdown",
   "id": "97cfbd54",
   "metadata": {},
   "source": [
    "# Q4) Which of the following statements are true regarding SVMs? \n",
    "A) They take the data from lower dimensional space to some higher dimensional space in case the \n",
    "data is not likely to be linearly separable.\n",
    "B) They use the kernel tricks to escape the complex computations required to transform the data.\n",
    "C) If the data is not linearly separable SVM technique cannot be used.\n",
    "D) All of the above.\n",
    "\n",
    "ANSWER:\n",
    "D) All of the above.    \n"
   ]
  },
  {
   "cell_type": "markdown",
   "id": "fa0e13be",
   "metadata": {},
   "source": [
    "# Q5) Which of the following Statements are true regarding the Kernel functions used in SVM?\n",
    "A) These functions gives value of the dot product of pairs of data-points in the desired higher. \n",
    "dimensional space without even explicitly converting the whole data in to higher dimensional space.\n",
    "B) We have to first convert the whole data in to the higher dimensional space before applying the \n",
    "kernel function.\n",
    "C) The data product values given by the kernel functions are used to find the classifier in the higher \n",
    "dimensional space. \n",
    "D) None of the above \n",
    "\n",
    "ANSWER:\n",
    "A) These functions gives value of the dot product of pairs of data-points in the desired higher. \n",
    "dimensional space without even explicitly converting the whole data in to higher dimensional space.\n",
    "C) The data product values given by the kernel functions are used to find the classifier in the higher \n",
    "dimensional space. "
   ]
  },
  {
   "cell_type": "markdown",
   "id": "0deb4fba",
   "metadata": {},
   "source": [
    "# Q6) How can SVM be classified?\n",
    "A) It is a model trained using unsupervised learning. It can be used for classification and regression.\n",
    "B) It is a model trained using unsupervised learning. It can be used for classification but not for\n",
    "regression\n",
    "C) It is a model trained using supervised learning. It can be used for classification and regression.\n",
    "D) It is a model trained using supervised learning. It can be used for classification not for\n",
    "regression.\n",
    "\n",
    "ANSWER:\n",
    "C) It is a model trained using supervised learning. It can be used for classification and regression.    "
   ]
  },
  {
   "cell_type": "markdown",
   "id": "68b83640",
   "metadata": {},
   "source": [
    "# Q7) The quality of an SVM model depends upon:\n",
    "A) Selection of Kernel \n",
    "B) Kernel Parameters\n",
    "C) Soft Margin Parameter C \n",
    "D) All of the above\n",
    "\n",
    "ANSWER:\n",
    "D) All of the above.    "
   ]
  },
  {
   "cell_type": "markdown",
   "id": "a22fdc1b",
   "metadata": {},
   "source": [
    "# Q8) The SVM’s are less effective when:\n",
    "A) The data is linearly separable.\n",
    "B) The data is clean and ready to use.\n",
    "C) The data is noisy and contains overlapping points.\n",
    "D) None of these.\n",
    "\n",
    "ANSWER:\n",
    "None of these    "
   ]
  },
  {
   "cell_type": "markdown",
   "id": "ccfee85f",
   "metadata": {},
   "source": [
    "# Q9) What would happen when you use very small C (C~0)?\n",
    "A) Misclassification would happen.\n",
    "B) Data will be correctly classified.\n",
    "C) Can’t say\n",
    "D) None of these.\n",
    "\n",
    "ANSWER:\n",
    "A)Misclassification would happen.    "
   ]
  },
  {
   "cell_type": "markdown",
   "id": "f2046e83",
   "metadata": {},
   "source": [
    "# Q10) What do you mean by generalization error in terms of the SVM?\n",
    "A) How far the hyperplane is from the support vectors.\n",
    "B) How accurately the SVM can predict outcomes for unseen data.\n",
    "C) The threshold amount of error in an SVM.\n",
    "D) None of these.\n",
    "\n",
    "ANSWER:\n",
    "B) How accurately the SVM can predict outcomes for unseen data.    "
   ]
  },
  {
   "cell_type": "code",
   "execution_count": null,
   "id": "01454157",
   "metadata": {},
   "outputs": [],
   "source": []
  }
 ],
 "metadata": {
  "kernelspec": {
   "display_name": "Python 3 (ipykernel)",
   "language": "python",
   "name": "python3"
  },
  "language_info": {
   "codemirror_mode": {
    "name": "ipython",
    "version": 3
   },
   "file_extension": ".py",
   "mimetype": "text/x-python",
   "name": "python",
   "nbconvert_exporter": "python",
   "pygments_lexer": "ipython3",
   "version": "3.9.12"
  }
 },
 "nbformat": 4,
 "nbformat_minor": 5
}
