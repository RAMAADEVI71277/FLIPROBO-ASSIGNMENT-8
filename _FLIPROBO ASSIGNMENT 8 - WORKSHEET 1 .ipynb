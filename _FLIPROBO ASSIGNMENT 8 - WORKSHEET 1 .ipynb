{
 "cells": [
  {
   "cell_type": "markdown",
   "id": "856c667b",
   "metadata": {},
   "source": [
    "# PYTHON – WORKSHEET 1\n",
    "Q1 to Q8 have only one correct answer. Choose the correct option to answer your question.\n",
    "1. Which of the following operators is used to calculate remainder in a division?\n",
    "A) # B) &\n",
    "C) % D) $\n",
    "2. In python 2//3 is equal to?\n",
    "A) 0.666 B) 0\n",
    "C) 1 D) 0.67\n",
    "3. In python, 6<<2 is equal to?\n",
    "A) 36 B) 10\n",
    "C) 24 D) 45\n",
    "4. In python, 6&2 will give which of the following as output?\n",
    "A) 2 B) True\n",
    "C) False D) 0\n",
    "5. In python, 6|2 will give which of the following as output?\n",
    "A) 2 B) 4\n",
    "C) 0 D) 6\n",
    "6. What does the finally keyword denotes in python?\n",
    "A) It is used to mark the end of the code\n",
    "B) It encloses the lines of code which will be executed if any error occurs while executing the lines of code in \n",
    "the try block.\n",
    "C) the finally block will be executed no matter if the try block raises an error or not.\n",
    "D) None of the above\n",
    "7. What does raise keyword is used for in python?\n",
    "A) It is used to raise an exception. B) It is used to define lambda function\n",
    "C) it's not a keyword in python. D) None of the above\n",
    "8. Which of the following is a common use case of yield keyword in python?\n",
    "A) in defining an iterator B) while defining a lambda function\n",
    "C) in defining a generator D) in for loop.\n",
    "Q9 and Q10 have multiple correct answers. Choose all the correct options to answer your question.\n",
    "9. Which of the following are the valid variable names?\n",
    "A) _abc B) 1abc\n",
    "C) abc2 D) None of the above\n",
    "10. Which of the following are the keywords in python?\n",
    "A) yield B) raise\n",
    "C) look-in D) all of the above\n",
    "Q11 to Q15 are programming questions. Answer them in Jupyter Notebook.\n",
    "11. Write a python program to find the factorial of a number.\n",
    "12. Write a python program to find whether a number is prime or composite.\n",
    "13. Write a python program to check whether a given string is palindrome or not.\n",
    "14. Write a Python program to get the third side of right-angled triangle from two given sides.\n",
    "15. Write a python program to print the frequency of each of the characters present in a given string"
   ]
  },
  {
   "cell_type": "code",
   "execution_count": 1,
   "id": "eea29253",
   "metadata": {},
   "outputs": [],
   "source": [
    "#1)Which of the following operators is used to calculate remainder in a division?\n",
    "#A) # B) & C) % D) $"
   ]
  },
  {
   "cell_type": "code",
   "execution_count": 2,
   "id": "82718eba",
   "metadata": {},
   "outputs": [],
   "source": [
    "# Answer = C) %"
   ]
  },
  {
   "cell_type": "code",
   "execution_count": 3,
   "id": "30116773",
   "metadata": {},
   "outputs": [
    {
     "data": {
      "text/plain": [
       "0"
      ]
     },
     "execution_count": 3,
     "metadata": {},
     "output_type": "execute_result"
    }
   ],
   "source": [
    "2%2"
   ]
  },
  {
   "cell_type": "code",
   "execution_count": 4,
   "id": "80fefc89",
   "metadata": {},
   "outputs": [
    {
     "data": {
      "text/plain": [
       "1"
      ]
     },
     "execution_count": 4,
     "metadata": {},
     "output_type": "execute_result"
    }
   ],
   "source": [
    "3%2"
   ]
  },
  {
   "cell_type": "code",
   "execution_count": 5,
   "id": "c81e4fc7",
   "metadata": {},
   "outputs": [],
   "source": [
    "#2) In python 2//3 is equal to? A) 0.666 B) 0 C) 1 D) 0.67"
   ]
  },
  {
   "cell_type": "code",
   "execution_count": 6,
   "id": "945ab597",
   "metadata": {},
   "outputs": [],
   "source": [
    "# Answer = B) 0"
   ]
  },
  {
   "cell_type": "code",
   "execution_count": 7,
   "id": "dcbd0a71",
   "metadata": {},
   "outputs": [
    {
     "data": {
      "text/plain": [
       "0"
      ]
     },
     "execution_count": 7,
     "metadata": {},
     "output_type": "execute_result"
    }
   ],
   "source": [
    "2//3"
   ]
  },
  {
   "cell_type": "code",
   "execution_count": 8,
   "id": "0cf9ce9d",
   "metadata": {},
   "outputs": [],
   "source": [
    "# 3) In python, 6<<2 is equal to? A) 36 B) 10 C) 24 D) 45"
   ]
  },
  {
   "cell_type": "code",
   "execution_count": 9,
   "id": "5101f3b3",
   "metadata": {},
   "outputs": [],
   "source": [
    "# Answer = C) 24"
   ]
  },
  {
   "cell_type": "code",
   "execution_count": 10,
   "id": "2d76176d",
   "metadata": {},
   "outputs": [
    {
     "data": {
      "text/plain": [
       "24"
      ]
     },
     "execution_count": 10,
     "metadata": {},
     "output_type": "execute_result"
    }
   ],
   "source": [
    "6<<2"
   ]
  },
  {
   "cell_type": "code",
   "execution_count": 11,
   "id": "47394216",
   "metadata": {},
   "outputs": [],
   "source": [
    "# 4) In python, 6&2 will give which of the following as output? A) 2 B) True C) False D) 0"
   ]
  },
  {
   "cell_type": "code",
   "execution_count": 12,
   "id": "0717dab7",
   "metadata": {},
   "outputs": [],
   "source": [
    "# Answer = A) 2"
   ]
  },
  {
   "cell_type": "code",
   "execution_count": 13,
   "id": "f3fdf01f",
   "metadata": {},
   "outputs": [
    {
     "data": {
      "text/plain": [
       "2"
      ]
     },
     "execution_count": 13,
     "metadata": {},
     "output_type": "execute_result"
    }
   ],
   "source": [
    "6&2"
   ]
  },
  {
   "cell_type": "code",
   "execution_count": 14,
   "id": "b1d43797",
   "metadata": {},
   "outputs": [],
   "source": [
    "# 5) In python, 6|2 will give which of the following as output? A) 2 B) 4 C) 0 D) 6"
   ]
  },
  {
   "cell_type": "code",
   "execution_count": 15,
   "id": "faddc379",
   "metadata": {},
   "outputs": [],
   "source": [
    "# Answer = D) 6 "
   ]
  },
  {
   "cell_type": "code",
   "execution_count": 16,
   "id": "841274df",
   "metadata": {},
   "outputs": [
    {
     "data": {
      "text/plain": [
       "6"
      ]
     },
     "execution_count": 16,
     "metadata": {},
     "output_type": "execute_result"
    }
   ],
   "source": [
    "6|2"
   ]
  },
  {
   "cell_type": "code",
   "execution_count": 17,
   "id": "ee78c4ca",
   "metadata": {},
   "outputs": [],
   "source": [
    "# 6 ) What does the finally keyword denotes in python? A) It is used to mark the end of the code B) It encloses the lines of code which will be executed if any error occurs while executing the lines of code in the try block. C) the finally block will be executed no matter if the try block raises an error or not. D) None of the above"
   ]
  },
  {
   "cell_type": "code",
   "execution_count": 18,
   "id": "2f035738",
   "metadata": {},
   "outputs": [],
   "source": [
    "# Answer = C) the finally block will be executed no matter if the try block raises an error or not. "
   ]
  },
  {
   "cell_type": "code",
   "execution_count": 19,
   "id": "659d33a5",
   "metadata": {},
   "outputs": [],
   "source": [
    "# 7) What does raise keyword is used for in python? A) It is used to raise an exception. B) It is used to define lambda function C) it's not a keyword in python. D) None of the above"
   ]
  },
  {
   "cell_type": "code",
   "execution_count": 20,
   "id": "35f1770d",
   "metadata": {},
   "outputs": [],
   "source": [
    "# Answer = A) It is used to raise an exception "
   ]
  },
  {
   "cell_type": "code",
   "execution_count": 21,
   "id": "63bf969b",
   "metadata": {},
   "outputs": [
    {
     "name": "stdout",
     "output_type": "stream",
     "text": [
      "Object `raise` not found.\n"
     ]
    }
   ],
   "source": [
    "raise?"
   ]
  },
  {
   "cell_type": "code",
   "execution_count": 22,
   "id": "00a190cc",
   "metadata": {},
   "outputs": [],
   "source": [
    "# 8) Which of the following is a common use case of yield keyword in python? A) in defining an iterator B) while defining a lambda function C) in defining a generator D) in for loop."
   ]
  },
  {
   "cell_type": "code",
   "execution_count": 23,
   "id": "adc74ae6",
   "metadata": {},
   "outputs": [],
   "source": [
    "# Answer = C) in defining a generator"
   ]
  },
  {
   "cell_type": "code",
   "execution_count": 24,
   "id": "8de8387e",
   "metadata": {},
   "outputs": [
    {
     "name": "stdout",
     "output_type": "stream",
     "text": [
      "<class 'generator'>\n",
      "Hello world!!\n",
      "WELCOME HOME \n"
     ]
    }
   ],
   "source": [
    "def fun_generator():\n",
    "    yield \"Hello world!!\"\n",
    "    yield \"WELCOME HOME \"\n",
    "\n",
    "\n",
    "obj = fun_generator()\n",
    "\n",
    "print(type(obj))\n",
    "print(next(obj))\n",
    "print(next(obj))"
   ]
  },
  {
   "cell_type": "code",
   "execution_count": 25,
   "id": "10d1fbfb",
   "metadata": {},
   "outputs": [],
   "source": [
    "# 9) Choose all the correct options to answer your question.\n",
    "# Which of the following are the valid variable names? A) _abc B) 1abc C) abc2 D) None of the above"
   ]
  },
  {
   "cell_type": "code",
   "execution_count": 26,
   "id": "411cf743",
   "metadata": {},
   "outputs": [],
   "source": [
    "# Answers = A) AND C)"
   ]
  },
  {
   "cell_type": "code",
   "execution_count": 27,
   "id": "d6b80883",
   "metadata": {},
   "outputs": [],
   "source": [
    "_abc=[1,2]\n",
    "\n",
    "abc2=[5,6]"
   ]
  },
  {
   "cell_type": "code",
   "execution_count": 28,
   "id": "1d3d37dd",
   "metadata": {},
   "outputs": [
    {
     "data": {
      "text/plain": [
       "[1, 2]"
      ]
     },
     "execution_count": 28,
     "metadata": {},
     "output_type": "execute_result"
    }
   ],
   "source": [
    "_abc"
   ]
  },
  {
   "cell_type": "code",
   "execution_count": 29,
   "id": "57b88314",
   "metadata": {},
   "outputs": [
    {
     "data": {
      "text/plain": [
       "[5, 6]"
      ]
     },
     "execution_count": 29,
     "metadata": {},
     "output_type": "execute_result"
    }
   ],
   "source": [
    "abc2"
   ]
  },
  {
   "cell_type": "code",
   "execution_count": 30,
   "id": "1d7c9beb",
   "metadata": {},
   "outputs": [
    {
     "ename": "SyntaxError",
     "evalue": "invalid syntax (1110157132.py, line 1)",
     "output_type": "error",
     "traceback": [
      "\u001b[1;36m  Input \u001b[1;32mIn [30]\u001b[1;36m\u001b[0m\n\u001b[1;33m    1abc=[3,4]\u001b[0m\n\u001b[1;37m     ^\u001b[0m\n\u001b[1;31mSyntaxError\u001b[0m\u001b[1;31m:\u001b[0m invalid syntax\n"
     ]
    }
   ],
   "source": [
    "1abc=[3,4]\n",
    "1abc"
   ]
  },
  {
   "cell_type": "code",
   "execution_count": 31,
   "id": "c3228142",
   "metadata": {},
   "outputs": [],
   "source": [
    "# 10) Which of the following are the keywords in python? A) yield B) raise C) look-in D) all of the above"
   ]
  },
  {
   "cell_type": "code",
   "execution_count": 32,
   "id": "e4d8aafc",
   "metadata": {},
   "outputs": [],
   "source": [
    "# Answers = A) yield and B) raise "
   ]
  },
  {
   "cell_type": "code",
   "execution_count": 33,
   "id": "b881abdd",
   "metadata": {},
   "outputs": [],
   "source": [
    "#11. Write a python program to find the factorial of a number."
   ]
  },
  {
   "cell_type": "code",
   "execution_count": 34,
   "id": "eb17260e",
   "metadata": {},
   "outputs": [],
   "source": [
    "def factorial(n):\n",
    "    return 1 if(n==0 or n==1) else n * factorial(n-1)"
   ]
  },
  {
   "cell_type": "code",
   "execution_count": 35,
   "id": "28941619",
   "metadata": {},
   "outputs": [
    {
     "name": "stdout",
     "output_type": "stream",
     "text": [
      "Factorial of num  5 is 120\n"
     ]
    }
   ],
   "source": [
    "num=5\n",
    "print('Factorial of num ' ,num , 'is',factorial(num))"
   ]
  },
  {
   "cell_type": "code",
   "execution_count": 36,
   "id": "f762addd",
   "metadata": {},
   "outputs": [],
   "source": [
    "def fact(n):\n",
    "    if n<0:\n",
    "        return 0\n",
    "    elif n==0 or n==1:\n",
    "        return 1\n",
    "    else:\n",
    "        f=1\n",
    "        while(n>1):\n",
    "            f *= n\n",
    "            n -=1\n",
    "        return f"
   ]
  },
  {
   "cell_type": "code",
   "execution_count": 37,
   "id": "b00702cf",
   "metadata": {},
   "outputs": [
    {
     "name": "stdout",
     "output_type": "stream",
     "text": [
      "Factorial of number   6 is  720\n"
     ]
    }
   ],
   "source": [
    "n=6\n",
    "print('Factorial of number  ' ,n, 'is ',fact(n))"
   ]
  },
  {
   "cell_type": "code",
   "execution_count": 38,
   "id": "f832d965",
   "metadata": {},
   "outputs": [],
   "source": [
    "#12. Write a python program to find whether a number is prime or composite"
   ]
  },
  {
   "cell_type": "code",
   "execution_count": 39,
   "id": "2119e732",
   "metadata": {},
   "outputs": [],
   "source": [
    "from math import sqrt"
   ]
  },
  {
   "cell_type": "code",
   "execution_count": 40,
   "id": "cd004c45",
   "metadata": {},
   "outputs": [],
   "source": [
    "def prime(num):\n",
    "    if num>1:\n",
    "        for i in range (2,num):\n",
    "            if (num%i)==0:\n",
    "                print(num,'is not a prime number but a composite number')\n",
    "                break\n",
    "            else:\n",
    "                print(num,'is a prime number')\n",
    "                break               "
   ]
  },
  {
   "cell_type": "code",
   "execution_count": 41,
   "id": "33d312f8",
   "metadata": {},
   "outputs": [
    {
     "name": "stdout",
     "output_type": "stream",
     "text": [
      "6 is not a prime number but a composite number\n"
     ]
    }
   ],
   "source": [
    "prime(6)"
   ]
  },
  {
   "cell_type": "code",
   "execution_count": 42,
   "id": "093b7ed8",
   "metadata": {},
   "outputs": [
    {
     "name": "stdout",
     "output_type": "stream",
     "text": [
      "4 is not a prime number but a composite number\n"
     ]
    }
   ],
   "source": [
    "prime(4)"
   ]
  },
  {
   "cell_type": "code",
   "execution_count": 43,
   "id": "3e3f3571",
   "metadata": {},
   "outputs": [
    {
     "name": "stdout",
     "output_type": "stream",
     "text": [
      "3 is a prime number\n"
     ]
    }
   ],
   "source": [
    "prime(3)"
   ]
  },
  {
   "cell_type": "code",
   "execution_count": 44,
   "id": "2ab4c26f",
   "metadata": {},
   "outputs": [
    {
     "name": "stdout",
     "output_type": "stream",
     "text": [
      "5 is a prime number\n"
     ]
    }
   ],
   "source": [
    "prime(5)"
   ]
  },
  {
   "cell_type": "code",
   "execution_count": 45,
   "id": "8c3758f4",
   "metadata": {},
   "outputs": [
    {
     "name": "stdout",
     "output_type": "stream",
     "text": [
      "11 is a prime number\n"
     ]
    }
   ],
   "source": [
    "prime(11)"
   ]
  },
  {
   "cell_type": "code",
   "execution_count": 46,
   "id": "5b182af3",
   "metadata": {},
   "outputs": [
    {
     "name": "stdout",
     "output_type": "stream",
     "text": [
      "8 is not a prime number but a composite number\n"
     ]
    }
   ],
   "source": [
    "prime(8)"
   ]
  },
  {
   "cell_type": "code",
   "execution_count": 47,
   "id": "7850992b",
   "metadata": {},
   "outputs": [],
   "source": [
    "#13. Write a python program to check whether a given string is palindrome or not"
   ]
  },
  {
   "cell_type": "code",
   "execution_count": 48,
   "id": "c02499f1",
   "metadata": {},
   "outputs": [],
   "source": [
    "def ispalindrome(w):\n",
    "    return w==w[::-1]"
   ]
  },
  {
   "cell_type": "code",
   "execution_count": 49,
   "id": "ebe58b6a",
   "metadata": {},
   "outputs": [
    {
     "data": {
      "text/plain": [
       "True"
      ]
     },
     "execution_count": 49,
     "metadata": {},
     "output_type": "execute_result"
    }
   ],
   "source": [
    "w='malayalam'\n",
    "ispalindrome(w)"
   ]
  },
  {
   "cell_type": "code",
   "execution_count": 50,
   "id": "661ca231",
   "metadata": {},
   "outputs": [
    {
     "data": {
      "text/plain": [
       "True"
      ]
     },
     "execution_count": 50,
     "metadata": {},
     "output_type": "execute_result"
    }
   ],
   "source": [
    "w='radar'\n",
    "ispalindrome(w)"
   ]
  },
  {
   "cell_type": "code",
   "execution_count": 51,
   "id": "c436d52c",
   "metadata": {},
   "outputs": [
    {
     "data": {
      "text/plain": [
       "True"
      ]
     },
     "execution_count": 51,
     "metadata": {},
     "output_type": "execute_result"
    }
   ],
   "source": [
    "w='civic'\n",
    "ispalindrome(w)"
   ]
  },
  {
   "cell_type": "code",
   "execution_count": 52,
   "id": "cf528728",
   "metadata": {},
   "outputs": [
    {
     "data": {
      "text/plain": [
       "False"
      ]
     },
     "execution_count": 52,
     "metadata": {},
     "output_type": "execute_result"
    }
   ],
   "source": [
    "w='cake'\n",
    "ispalindrome(w)"
   ]
  },
  {
   "cell_type": "code",
   "execution_count": 53,
   "id": "931c85a4",
   "metadata": {},
   "outputs": [],
   "source": [
    "#14. Write a Python program to get the third side of right-angled triangle from two given sides"
   ]
  },
  {
   "cell_type": "code",
   "execution_count": 54,
   "id": "f0ebdb4f",
   "metadata": {},
   "outputs": [
    {
     "name": "stdout",
     "output_type": "stream",
     "text": [
      "Enter Base = 10\n",
      "Enter Height = 20\n",
      "Hypotenuse =  22.360679774997898\n"
     ]
    }
   ],
   "source": [
    "import math\n",
    "a=float(input('Enter Base = '))\n",
    "b=float(input('Enter Height = '))\n",
    "c=math.sqrt(a**2 + b**2)\n",
    "print('Hypotenuse = ',c)"
   ]
  },
  {
   "cell_type": "code",
   "execution_count": 55,
   "id": "688a3920",
   "metadata": {},
   "outputs": [],
   "source": [
    "# 15. Write a python program to print the frequency of each of the characters present in a given string"
   ]
  },
  {
   "cell_type": "code",
   "execution_count": 56,
   "id": "3b08fc70",
   "metadata": {},
   "outputs": [
    {
     "name": "stdout",
     "output_type": "stream",
     "text": [
      "The count of all characters in RAMAA DEVI is  {'R': 1, 'A': 3, 'M': 1, ' ': 1, 'D': 1, 'E': 1, 'V': 1, 'I': 1}\n"
     ]
    }
   ],
   "source": [
    "test_string='RAMAA DEVI'\n",
    "ans={i:test_string.count(i) for i in test_string}\n",
    "print('The count of all characters in RAMAA DEVI is ',\n",
    "        ans)"
   ]
  },
  {
   "cell_type": "code",
   "execution_count": 58,
   "id": "350f7700",
   "metadata": {},
   "outputs": [
    {
     "name": "stdout",
     "output_type": "stream",
     "text": [
      "The count of all characters in RAMADEVI is  Counter({'A': 2, 'R': 1, 'M': 1, 'D': 1, 'E': 1, 'V': 1, 'I': 1})\n"
     ]
    }
   ],
   "source": [
    "from collections import Counter\n",
    "test_string='RAMADEVI'\n",
    "ans=Counter(test_string)\n",
    "print('The count of all characters in RAMADEVI is ',ans)"
   ]
  },
  {
   "cell_type": "markdown",
   "id": "6d3725b8",
   "metadata": {},
   "source": [
    "# STATISTICS WORKSHEET-8\n",
    "Q1 to Q12 have only one correct answer. Choose the correct option to answer your question.\n",
    "1. In hypothesis testing, type II error is represented by β and the power of the test is 1−β then β is:\n",
    "a. The probability of rejecting H0 when H1 is true\n",
    "b. The probability of failing to reject H0 when H1 is true\n",
    "c. The probability of failing to reject H1 when H0 is true\n",
    "d. The probability of rejecting H0 when H1 is true\n",
    "2. In hypothesis testing, the hypothesis which is tentatively assumed to be true is called the\n",
    "a. correct hypothesis\n",
    "b. null hypothesis \n",
    "c. alternative hypothesis\n",
    "d. level of significance\n",
    "3. When the null hypothesis has been true, but the sample information has resulted in the rejection of the null, a \n",
    "_________ has been made\n",
    "a. level of significance\n",
    "b. Type II error\n",
    "c. critical value\n",
    "d. Type I error\n",
    "4.For finding the p-value when the population standard deviation is unknown, if it is reasonable to assume that the \n",
    "population is normal, we use\n",
    "a. the z distribution\n",
    "b. the t distribution with n - 1 degrees of freedom\n",
    "c. the t distribution with n + 1 degrees of freedom\n",
    "d. none of the above\n",
    "5. A Type II error is the error of\n",
    "a. accepting Ho when it is false\n",
    "b. accepting Ho when it is true\n",
    "c. rejecting Ho when it is false\n",
    "d. rejecting Ho when it is true\n",
    "6. A hypothesis test in which rejection of the null hypothesis occurs for values of the point estimator in either tail of \n",
    "the sampling distribution is called\n",
    "a. the null hypothesis\n",
    "b. the alternative hypothesis\n",
    "c. a one-tailed test\n",
    "d. a two-tailed test\n",
    "WORKSHEET\n",
    "7. In hypothesis testing, the level of significance is\n",
    "a. the probability of committing a Type II error\n",
    "b. the probability of committing a Type I error\n",
    "c. the probability of either a Type I or Type II, depending on the hypothesis to be tested\n",
    "d. none of the above\n",
    "8. In hypothesis testing, b is\n",
    "a. the probability of committing a Type II error\n",
    "b. the probability of committing a Type I error\n",
    "c. the probability of either a Type I or Type II, depending on the hypothesis to be test\n",
    "d. none of the above\n",
    "9. When testing the following hypotheses at an α level of significance\n",
    "H0: p = 0.7\n",
    "H1: p > 0.7\n",
    "The null hypothesis will be rejected if the test statistic Z is\n",
    "a. z > zα\n",
    "b. z < zα\n",
    "c. z < -z\n",
    "d. none of the above\n",
    "10. Which of the following does not need to be known in order to compute the P-value?\n",
    "a. knowledge of whether the test is one-tailed or two-tail\n",
    "b. the value of the test statistic\n",
    "c. the level of significance\n",
    "d. All of the above are needed\n",
    "11. The maximum probability of a Type I error that the decision maker will tolerate is called the\n",
    "a. level of significance\n",
    "b. critical value\n",
    "c. decision value\n",
    "d. probability value\n",
    "12. For t distribution, increasing the sample size, the effect will be on\n",
    "a. Degrees of Freedom\n",
    "b. The t-ratio\n",
    "c. Standard Error of the Means\n",
    "d. All of the Above\n",
    "Q13 to Q15 are subjective answers type questions. Answers them in their own words briefly.\n",
    "13. What is Anova in SPSS?\n",
    "14. What are the assumptions of Anova?\n",
    "15. What is the difference between one way Anova and two way Anova?"
   ]
  },
  {
   "cell_type": "markdown",
   "id": "6215cd51",
   "metadata": {},
   "source": [
    "# Q1)In hypothesis testing, type II error is represented by β and the power of the test is 1−β then β is: \n",
    "    a. The probability of rejecting H0 when H1 is true \n",
    "    b. The probability of failing to reject H0 when H1 is true\n",
    "    c. The probability of failing to reject H1 when H0 is true\n",
    "    d. The probability of rejecting H0 when H1 is true\n",
    "    \n",
    "ANSWER:\n",
    "a) The probability of rejecting H0 when H1 is true\n",
    "    "
   ]
  },
  {
   "cell_type": "markdown",
   "id": "d009bb9e",
   "metadata": {},
   "source": [
    "# Q2) In hypothesis testing, the hypothesis which is tentatively assumed to be true is called the\n",
    "a. correct hypothesis\n",
    "b. null hypothesis \n",
    "c. alternative hypothesis\n",
    "d. level of significance\n",
    "\n",
    "ANSWER:\n",
    "b) null hypothesis\n"
   ]
  },
  {
   "cell_type": "markdown",
   "id": "60d0b9b2",
   "metadata": {},
   "source": [
    "# Q3) When the null hypothesis has been true, but the sample information has resulted in the rejection of the null, a \n",
    "_________ has been made\n",
    "a. level of significance\n",
    "b. Type II error\n",
    "c. critical value\n",
    "d. Type I error\n",
    "\n",
    "ANSWER:\n",
    "d) Type I error    "
   ]
  },
  {
   "cell_type": "markdown",
   "id": "0c85755e",
   "metadata": {},
   "source": [
    "# Q4)For finding the p-value when the population standard deviation is unknown, if it is reasonable to assume that the population is normal, we use\n",
    "a. the z distribution\n",
    "b. the t distribution with n - 1 degrees of freedom\n",
    "c. the t distribution with n + 1 degrees of freedom\n",
    "d. none of the above\n",
    "\n",
    "ANSWER:\n",
    "a) the z distribution\n"
   ]
  },
  {
   "cell_type": "markdown",
   "id": "a1a15abc",
   "metadata": {},
   "source": [
    "# Q5) A Type II error is the error of\n",
    "a. accepting Ho when it is false\n",
    "b. accepting Ho when it is true\n",
    "c. rejecting Ho when it is false\n",
    "d. rejecting Ho when it is true\n",
    "\n",
    "ANSWER:\n",
    "a) accepting H0 when it is false    "
   ]
  },
  {
   "cell_type": "markdown",
   "id": "38afddb8",
   "metadata": {},
   "source": [
    "# Q6) A hypothesis test in which rejection of the null hypothesis occurs for values of the point estimator in either tail of \n",
    "the sampling distribution is called\n",
    "a. the null hypothesis\n",
    "b. the alternative hypothesis\n",
    "c. a one-tailed test\n",
    "d. a two-tailed test\n",
    "\n",
    "ANSWER:\n",
    "d) a two-tailed test    "
   ]
  },
  {
   "cell_type": "markdown",
   "id": "208e458b",
   "metadata": {},
   "source": [
    "# Q7) In hypothesis testing, the level of significance is\n",
    "a. the probability of committing a Type II error\n",
    "b. the probability of committing a Type I error\n",
    "c. the probability of either a Type I or Type II, depending on the hypothesis to be tested\n",
    "d. none of the above\n",
    "\n",
    "ANSWER:\n",
    "c) the probability of either a Type I or Type II, depending on the hypothesis to be tested."
   ]
  },
  {
   "cell_type": "markdown",
   "id": "fb54cd63",
   "metadata": {},
   "source": [
    "# Q8) In hypothesis testing, b is\n",
    "a. the probability of committing a Type II error\n",
    "b. the probability of committing a Type I error\n",
    "c. the probability of either a Type I or Type II, depending on the hypothesis to be test\n",
    "d. none of the above\n",
    "\n",
    "ANSWER:\n",
    "a) the probability of committing a Type II error.     "
   ]
  },
  {
   "cell_type": "markdown",
   "id": "906ddebc",
   "metadata": {},
   "source": [
    "# Q9) When testing the following hypotheses at an α level of significance\n",
    "H0: p = 0.7\n",
    "H1: p > 0.7\n",
    "The null hypothesis will be rejected if the test statistic Z is\n",
    "a. z > zα\n",
    "b. z < zα\n",
    "c. z < -z\n",
    "d. none of the above\n",
    "\n",
    "ANSWER:\n",
    "a)  z > zα   "
   ]
  },
  {
   "cell_type": "markdown",
   "id": "4943473e",
   "metadata": {},
   "source": [
    "# Q10) Which of the following does not need to be known in order to compute the P-value?\n",
    "a. knowledge of whether the test is one-tailed or two-tail\n",
    "b. the value of the test statistic\n",
    "c. the level of significance\n",
    "d. All of the above are needed\n",
    "\n",
    "ANSWER:\n",
    "c) the level of significance.    \n"
   ]
  },
  {
   "cell_type": "markdown",
   "id": "26176490",
   "metadata": {},
   "source": [
    "# Q11) The maximum probability of a Type I error that the decision maker will tolerate is called the\n",
    "a. level of significance\n",
    "b. critical value\n",
    "c. decision value\n",
    "d. probability value\n",
    "\n",
    "ANSWER:\n",
    "a) level of significance    \n"
   ]
  },
  {
   "cell_type": "markdown",
   "id": "41074e6e",
   "metadata": {},
   "source": [
    "# Q12) For t distribution, increasing the sample size, the effect will be on\n",
    "a. Degrees of Freedom\n",
    "b. The t-ratio\n",
    "c. Standard Error of the Means\n",
    "d. All of the Above\n",
    "\n",
    "ANSWER:\n",
    "d) ALL of the Above    "
   ]
  },
  {
   "cell_type": "markdown",
   "id": "687d6316",
   "metadata": {},
   "source": [
    "# Q13) What is Anova in SPSS?\n",
    "\n",
    "ANSWER:\n",
    "    Analysis of Variance, (ANOVA) in SPSS (Statistical Software Suite), is used for examining the differences in the mean values of the dependent variable associated with the effect of the controlled independent variables, after taking into account the influence of the uncontrolled independent variables. Essentially, ANOVA in SPSS is used as the test of means for two or more populations"
   ]
  },
  {
   "cell_type": "markdown",
   "id": "87d6cfec",
   "metadata": {},
   "source": [
    "# Q14) What are the assumptions of Anova?\n",
    "\n",
    "ANSWER:\n",
    "    Anova is a parametric test.There are some criteria your data must meet if you want to use it.\n",
    "1) The data should be normally distributed.\n",
    "2) Data should be independantly sampled.\n",
    "3) If you have an independant group,there must be homogeneneity of variance.\n",
    "4) If you have a repeated measures, it must have sphericity."
   ]
  },
  {
   "cell_type": "markdown",
   "id": "078a31c2",
   "metadata": {},
   "source": [
    "# Q15) What is the difference between one way Anova and two way Anova?\n",
    "\n",
    "ANSWER:\n",
    "    The only difference between one-way and two-way ANOVA is the number of independent variables. A one-way ANOVA has one independent variable, while a two-way ANOVA has two."
   ]
  },
  {
   "cell_type": "markdown",
   "id": "f1ce9ef7",
   "metadata": {},
   "source": [
    "# MACHINE LEARNING\n",
    "ASSIGNMENT - 10\n",
    "In Q1 to Q8, only one option is correct, Choose the correct option: \n",
    "1. In the linear regression equation y = θ0 + θ1x, θ0 is the:\n",
    "A) Slope of the line B) Independent variable \n",
    "C) y intercept D) Coefficient of determination\n",
    "2. True or False: Linear Regression is a supervised learning algorithm.\n",
    "A) True B) False\n",
    "3. In regression analysis, the variable that is being predicted is:\n",
    "A) the independent variable B) the dependent variable \n",
    "C) usually denoted by x D) usually denoted by r\n",
    "4. Generally, which of the following method(s) is used for predicting continuous \n",
    "dependent variables?\n",
    "A) Logistic Regression B) Linear Regression \n",
    "C) Both D) None of the above\n",
    "5. The coefficient of determination is: \n",
    "A) the square root of the correlation coefficient B) usually less than zero \n",
    "C) the correlation coefficient squared D) equal to zero\n",
    "6. If the slope of the regression equation is positive, then: \n",
    "A) y decreases as x increases B) y increases as x increases\n",
    "C) y decreases as x decreases D) None of these\n",
    "7. Linear Regression works best for: \n",
    "A) linear data B) non-linear data \n",
    "C) both linear and non-linear data D) None of the above \n",
    "8. The coefficient of determination can be in the range of: \n",
    "A) 0 to 1 B) -1 to 1 \n",
    "C) -1 to 0 D) 0 to infinity \n",
    "In Q9 to Q13, more than one options are correct, Choose all the correct options: \n",
    "9. Which of the following evaluation metrics can be used for linear regression? \n",
    "A) Classification Report B) RMSE \n",
    "C) ROC curve D) MAE \n",
    " 10. Which of the following is true for linear regression? \n",
    "A) Linear regression is a supervised learning algorithm. \n",
    "B) Linear regression supports multi-collinearity. \n",
    "C) Shape of linear regression’s cost function is convex. \n",
    "D) Linear regression is used to predict discrete dependent variable.\n",
    " 11. Which of the following regularizations can be applied to linear regression?\n",
    "A) Ridge B) Lasso \n",
    "C) Pruning D) Elastic Net \n",
    " 12. Linear regression performs better for: \n",
    "A) Large amount of training samples with small number of features.\n",
    "B) Same number of features and training samples \n",
    "C) Large number of features \n",
    "D) The variables which are drawn independently, identically distributed \n",
    "13. Which of the following assumptions are true for linear regression? \n",
    "A) Linearity B) Homoscedasticity \n",
    "C) Non-Independent D) Normality\n",
    " MACHINE LEARNING\n",
    "ASSIGNMENT - 10\n",
    "Q14 and Q15 are subjective answer type questions, Answer them briefly.\n",
    "14. Explain Linear Regression? \n",
    "15. What is difference between simple linear and multiple linear regression?"
   ]
  },
  {
   "cell_type": "markdown",
   "id": "e833765e",
   "metadata": {},
   "source": [
    "# Q1) In the linear regression equation y = θ0 + θ1x, θ0 is the:\n",
    "A) Slope of the line \n",
    "B) Independent variable \n",
    "C) y intercept\n",
    "D) Coefficient of determination\n",
    "\n",
    "ANSWER:\n",
    "C) y intercept    "
   ]
  },
  {
   "cell_type": "markdown",
   "id": "ce4ec574",
   "metadata": {},
   "source": [
    "# Q2) True or False: Linear Regression is a supervised learning algorithm.\n",
    "A) True \n",
    "B) False\n",
    "\n",
    "ANSWER:\n",
    "A) True    "
   ]
  },
  {
   "cell_type": "markdown",
   "id": "779b4c1d",
   "metadata": {},
   "source": [
    "# Q3) In regression analysis, the variable that is being predicted is:\n",
    "A) the independent variable\n",
    "B) the dependent variable \n",
    "C) usually denoted by x\n",
    "D) usually denoted by r\n",
    "\n",
    "ANSWER:\n",
    "B) the dependant variable    "
   ]
  },
  {
   "cell_type": "markdown",
   "id": "8dfaa1e6",
   "metadata": {},
   "source": [
    "# Q4) Generally, which of the following method(s) is used for predicting continuous \n",
    "dependent variables?\n",
    "A) Logistic Regression\n",
    "B) Linear Regression \n",
    "C) Both \n",
    "D) None of the above\n",
    "\n",
    "ANSWER:\n",
    "B) Linear Regression    "
   ]
  },
  {
   "cell_type": "markdown",
   "id": "6b95158b",
   "metadata": {},
   "source": [
    "# Q5) The coefficient of determination is: \n",
    "A) the square root of the correlation coefficient\n",
    "B) usually less than zero \n",
    "C) the correlation coefficient squared\n",
    "D) equal to zero\n",
    "\n",
    "ANSWER:\n",
    "C) The correlation coefficient squared    "
   ]
  },
  {
   "cell_type": "markdown",
   "id": "be5afceb",
   "metadata": {},
   "source": [
    "# Q6) 6. If the slope of the regression equation is positive, then: \n",
    "A) y decreases as x increases \n",
    "B) y increases as x increases\n",
    "C) y decreases as x decreases\n",
    "D) None of these\n",
    "\n",
    "ANSWER:\n",
    "B) y increases as x increases.    \n"
   ]
  },
  {
   "cell_type": "markdown",
   "id": "6ce45da0",
   "metadata": {},
   "source": [
    "# Q7) Linear Regression works best for: \n",
    "A) linear data\n",
    "B) non-linear data \n",
    "C) both linear and non-linear data\n",
    "D) None of the above \n",
    "\n",
    "ANSWER:\n",
    "C) both linear and non-linear data    \n",
    "      "
   ]
  },
  {
   "cell_type": "markdown",
   "id": "ae9d9cb6",
   "metadata": {},
   "source": [
    "# Q8) The coefficient of determination can be in the range of: \n",
    "A) 0 to 1 \n",
    "B) -1 to 1 \n",
    "C) -1 to 0\n",
    "D) 0 to infinity\n",
    "\n",
    "ANSWER:\n",
    "0 to 1    \n",
    "        "
   ]
  },
  {
   "cell_type": "markdown",
   "id": "a7cec4b9",
   "metadata": {},
   "source": [
    "# Q9) Which of the following evaluation metrics can be used for linear regression? \n",
    "A) Classification Report\n",
    "B) RMSE \n",
    "C) ROC curve \n",
    "D) MAE \n",
    "\n",
    "ANSWER:\n",
    "B) RMSE\n",
    "D) MAE"
   ]
  },
  {
   "cell_type": "markdown",
   "id": "a1eea06e",
   "metadata": {},
   "source": [
    "# Q10)  Which of the following is true for linear regression? \n",
    "A) Linear regression is a supervised learning algorithm. \n",
    "B) Linear regression supports multi-collinearity. \n",
    "C) Shape of linear regression’s cost function is convex. \n",
    "D) Linear regression is used to predict discrete dependent variable\n",
    "\n",
    "ANSWER:\n",
    "A) Linear regression is a supervised learning algorithm. \n",
    "B) Linear regression supports multi-collinearity. \n",
    "C) Shape of linear regression’s cost function is convex.     "
   ]
  },
  {
   "cell_type": "markdown",
   "id": "cfdbbc7a",
   "metadata": {},
   "source": [
    "# Q11) Which of the following regularizations can be applied to linear regression?\n",
    "A) Ridge\n",
    "B) Lasso \n",
    "C) Pruning\n",
    "D) Elastic Net \n",
    "\n",
    "ANSWER:\n",
    "A) Ridge\n",
    "B) Lasso \n",
    "D) Elastic Net    "
   ]
  },
  {
   "cell_type": "markdown",
   "id": "3631828d",
   "metadata": {},
   "source": [
    "# Q12) Linear regression performs better for: \n",
    "A) Large amount of training samples with small number of features.\n",
    "B) Same number of features and training samples \n",
    "C) Large number of features \n",
    "D) The variables which are drawn independently, identically distributed \n",
    "\n",
    "ANSWER:\n",
    "A) Large amount of training samples with small number of features. \n",
    "C) Large number of features \n",
    "D) The variables which are drawn independently, identically distributed     "
   ]
  },
  {
   "cell_type": "markdown",
   "id": "8463317f",
   "metadata": {},
   "source": [
    "# Q13) Which of the following assumptions are true for linear regression? \n",
    "A) Linearity\n",
    "B) Homoscedasticity \n",
    "C) Non-Independent\n",
    "D) Normality\n",
    "\n",
    "ANSWER:\n",
    "A) Linearity\n",
    "B) Homoscedasticity \n",
    "D) Normality    "
   ]
  },
  {
   "cell_type": "markdown",
   "id": "73277afa",
   "metadata": {},
   "source": [
    "# Q14) Explain Linear Regression.\n",
    "Linear Regression is a machine learning algorithm based on supervised learning. It performs a regression task. Regression models a target prediction value based on independent variables. It is mostly used for finding out the relationship between variables and forecasting. Different regression models differ based on – the kind of relationship between dependent and independent variables they are considering, and the number of independent variables getting used. There are many names for a regression’s dependent variable.  It may be called an outcome variable, criterion variable, endogenous variable, or regressand.  The independent variables can be called exogenous variables, predictor variables, or regressors."
   ]
  },
  {
   "cell_type": "markdown",
   "id": "23ab5784",
   "metadata": {},
   "source": [
    "# Q15) What is difference between simple linear and multiple linear regression?\n",
    "Simple linear regression has only one x and one y variable. Multiple linear regression has one y and two or more x variables. For instance, when we predict rent based on square feet alone that is simple linear regression. When we predict rent based on square feet and age of the building that is an example of multiple linear regression."
   ]
  },
  {
   "cell_type": "code",
   "execution_count": null,
   "id": "27c7ea36",
   "metadata": {},
   "outputs": [],
   "source": []
  }
 ],
 "metadata": {
  "kernelspec": {
   "display_name": "Python 3 (ipykernel)",
   "language": "python",
   "name": "python3"
  },
  "language_info": {
   "codemirror_mode": {
    "name": "ipython",
    "version": 3
   },
   "file_extension": ".py",
   "mimetype": "text/x-python",
   "name": "python",
   "nbconvert_exporter": "python",
   "pygments_lexer": "ipython3",
   "version": "3.9.12"
  }
 },
 "nbformat": 4,
 "nbformat_minor": 5
}
